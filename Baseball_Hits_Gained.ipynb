{
 "cells": [
  {
   "cell_type": "markdown",
   "metadata": {
    "id": "KHB096zdfzbv"
   },
   "source": [
    "# Sports Analytics Final Project (Group 4)"
   ]
  },
  {
   "cell_type": "markdown",
   "metadata": {
    "id": "RkEzBwTMfzbv"
   },
   "source": [
    "https://blogs.fangraphs.com/the-southpaw-advantage/"
   ]
  },
  {
   "cell_type": "code",
   "execution_count": 1,
   "metadata": {
    "id": "W5rIAJgQfzbv"
   },
   "outputs": [],
   "source": [
    "import pandas as pd \n",
    "import numpy as np \n",
    "import matplotlib.pyplot as plt"
   ]
  },
  {
   "cell_type": "code",
   "execution_count": 2,
   "metadata": {
    "colab": {
     "base_uri": "https://localhost:8080/",
     "height": 408
    },
    "id": "_pdKhpxWfzbv",
    "outputId": "1d9d517f-54cf-476d-efef-313d0693b727"
   },
   "outputs": [],
   "source": [
    "atbats = pd.read_csv(\"atbats.csv\")\n",
    "games = pd.read_csv('games.csv')\n",
    "pitches = pd.read_csv('pitches.csv')"
   ]
  },
  {
   "cell_type": "code",
   "execution_count": 3,
   "metadata": {
    "id": "4VaBVP6Jfzbv"
   },
   "outputs": [],
   "source": [
    "player_list = pd.read_csv('player_names.csv')"
   ]
  },
  {
   "cell_type": "markdown",
   "metadata": {
    "id": "5fEeDmxmfzbv"
   },
   "source": [
    "## Filtering for 2018 data just for initial analysis:"
   ]
  },
  {
   "cell_type": "code",
   "execution_count": 4,
   "metadata": {
    "id": "1Pa2q2Cjfzbv",
    "outputId": "6ee953f8-b078-434e-fb38-13ee61014910"
   },
   "outputs": [
    {
     "data": {
      "text/html": [
       "<div>\n",
       "<style scoped>\n",
       "    .dataframe tbody tr th:only-of-type {\n",
       "        vertical-align: middle;\n",
       "    }\n",
       "\n",
       "    .dataframe tbody tr th {\n",
       "        vertical-align: top;\n",
       "    }\n",
       "\n",
       "    .dataframe thead th {\n",
       "        text-align: right;\n",
       "    }\n",
       "</style>\n",
       "<table border=\"1\" class=\"dataframe\">\n",
       "  <thead>\n",
       "    <tr style=\"text-align: right;\">\n",
       "      <th></th>\n",
       "      <th>ab_id</th>\n",
       "      <th>batter_id</th>\n",
       "      <th>event</th>\n",
       "      <th>g_id</th>\n",
       "      <th>inning</th>\n",
       "      <th>o</th>\n",
       "      <th>p_score</th>\n",
       "      <th>p_throws</th>\n",
       "      <th>pitcher_id</th>\n",
       "      <th>stand</th>\n",
       "      <th>top</th>\n",
       "    </tr>\n",
       "  </thead>\n",
       "  <tbody>\n",
       "    <tr>\n",
       "      <td>0</td>\n",
       "      <td>2015000001</td>\n",
       "      <td>572761</td>\n",
       "      <td>Groundout</td>\n",
       "      <td>201500001</td>\n",
       "      <td>1</td>\n",
       "      <td>1</td>\n",
       "      <td>0</td>\n",
       "      <td>L</td>\n",
       "      <td>452657</td>\n",
       "      <td>L</td>\n",
       "      <td>True</td>\n",
       "    </tr>\n",
       "    <tr>\n",
       "      <td>1</td>\n",
       "      <td>2015000002</td>\n",
       "      <td>518792</td>\n",
       "      <td>Double</td>\n",
       "      <td>201500001</td>\n",
       "      <td>1</td>\n",
       "      <td>1</td>\n",
       "      <td>0</td>\n",
       "      <td>L</td>\n",
       "      <td>452657</td>\n",
       "      <td>L</td>\n",
       "      <td>True</td>\n",
       "    </tr>\n",
       "    <tr>\n",
       "      <td>2</td>\n",
       "      <td>2015000003</td>\n",
       "      <td>407812</td>\n",
       "      <td>Single</td>\n",
       "      <td>201500001</td>\n",
       "      <td>1</td>\n",
       "      <td>1</td>\n",
       "      <td>0</td>\n",
       "      <td>L</td>\n",
       "      <td>452657</td>\n",
       "      <td>R</td>\n",
       "      <td>True</td>\n",
       "    </tr>\n",
       "    <tr>\n",
       "      <td>3</td>\n",
       "      <td>2015000004</td>\n",
       "      <td>425509</td>\n",
       "      <td>Strikeout</td>\n",
       "      <td>201500001</td>\n",
       "      <td>1</td>\n",
       "      <td>2</td>\n",
       "      <td>0</td>\n",
       "      <td>L</td>\n",
       "      <td>452657</td>\n",
       "      <td>R</td>\n",
       "      <td>True</td>\n",
       "    </tr>\n",
       "    <tr>\n",
       "      <td>4</td>\n",
       "      <td>2015000005</td>\n",
       "      <td>571431</td>\n",
       "      <td>Strikeout</td>\n",
       "      <td>201500001</td>\n",
       "      <td>1</td>\n",
       "      <td>3</td>\n",
       "      <td>0</td>\n",
       "      <td>L</td>\n",
       "      <td>452657</td>\n",
       "      <td>L</td>\n",
       "      <td>True</td>\n",
       "    </tr>\n",
       "  </tbody>\n",
       "</table>\n",
       "</div>"
      ],
      "text/plain": [
       "        ab_id  batter_id      event       g_id  inning  o  p_score p_throws  \\\n",
       "0  2015000001     572761  Groundout  201500001       1  1        0        L   \n",
       "1  2015000002     518792     Double  201500001       1  1        0        L   \n",
       "2  2015000003     407812     Single  201500001       1  1        0        L   \n",
       "3  2015000004     425509  Strikeout  201500001       1  2        0        L   \n",
       "4  2015000005     571431  Strikeout  201500001       1  3        0        L   \n",
       "\n",
       "   pitcher_id stand   top  \n",
       "0      452657     L  True  \n",
       "1      452657     L  True  \n",
       "2      452657     R  True  \n",
       "3      452657     R  True  \n",
       "4      452657     L  True  "
      ]
     },
     "execution_count": 4,
     "metadata": {},
     "output_type": "execute_result"
    }
   ],
   "source": [
    "atbats.head()"
   ]
  },
  {
   "cell_type": "code",
   "execution_count": 5,
   "metadata": {
    "id": "MjPa0Na5fzbw"
   },
   "outputs": [],
   "source": [
    "atbats['year'] = atbats['ab_id']//1e6"
   ]
  },
  {
   "cell_type": "code",
   "execution_count": 6,
   "metadata": {
    "id": "EeanYOFpfzbw"
   },
   "outputs": [],
   "source": [
    "atbats_2018 = atbats[atbats['year']==2018]\n",
    "atbats_2018.to_csv('atbats_2018')"
   ]
  },
  {
   "cell_type": "markdown",
   "metadata": {
    "id": "s8hNhlpifzbw"
   },
   "source": [
    "## 2018 Data: "
   ]
  },
  {
   "cell_type": "code",
   "execution_count": 7,
   "metadata": {
    "id": "S3lxxXcOfzbw"
   },
   "outputs": [],
   "source": [
    "atbats_2018 = pd.read_csv('atbats_2018')"
   ]
  },
  {
   "cell_type": "code",
   "execution_count": 8,
   "metadata": {
    "id": "rheRDQxjfzbw"
   },
   "outputs": [],
   "source": [
    "event_dict = {'Single': '1B','Double': '2B','Triple': '3B','Home Run': 'HR','Walk': 'BB',\n",
    "            'Intent Walk': 'IBB','Hit By Pitch': 'HBP','Strikeout': 'K','Sac Fly': 'SF',\n",
    "            'Grounded Into DP': 'GIDP','Groundout': 'GO','Lineout': 'LO','Pop Out': 'PO',\n",
    "            'Flyout': 'FO','Fielders Choice': 'FC','Sac Bunt': 'SAC','Double Play': 'DP',\n",
    "            'Triple Play': 'TP','Batter Interference': 'BI','Fan interference': 'FI',\n",
    "            'Catcher Interference': 'CI','Field Error': 'ROE','Bunt Groundout': 'BGO',\n",
    "            'Bunt Lineout': 'BLO','Bunt Pop Out': 'BPO','Fielders Choice Out': 'FCO',\n",
    "            'Forceout': 'FORCE','Sacrifice Bunt DP': 'SBDP','Strikeout - DP': 'KDP',\n",
    "            'Runner Out': 'RO','Sac Fly DP': 'SFDP'\n",
    "           }"
   ]
  },
  {
   "cell_type": "code",
   "execution_count": 9,
   "metadata": {
    "id": "TxF66jv_fzbw",
    "scrolled": true
   },
   "outputs": [],
   "source": [
    "atbats_2018['event'] = atbats_2018['event'].apply(lambda x: event_dict[x]) \n",
    "eventcol = atbats_2018['event']\n",
    "atbats_2018 = pd.get_dummies(atbats_2018, columns=['event'], prefix='')\n",
    "atbats_2018['event'] = eventcol\n",
    "\n",
    "atbats_2018['_H'] = atbats_2018[['_1B', '_2B', '_3B', '_HR']].sum(axis=1) #TOTAL HITS\n",
    "atbats_2018['_TB'] = atbats_2018['_1B'] + 2*atbats_2018['_2B'] + 3*atbats_2018['_3B'] + 4*atbats_2018['_HR'] #TOTAL BASES\n",
    "atbats_2018['_K'] = atbats_2018['_K'] + atbats_2018['_KDP'] #TOTAL STRIKEOUTS\n",
    "atbats_2018['_BB'] = atbats_2018['_BB'] + atbats_2018['_IBB'] #WALKS AND INTENTIONAL WALKS\n",
    "atbats_2018['_AB'] = 1 - atbats_2018[['_CI', '_SAC', '_BB', \n",
    "                            '_HBP', '_RO', '_SF']].sum(axis=1) #AT BATS\n",
    "atbats_2018['_PA'] = 1 - atbats_2018['_RO'] #PLATE APPEARANCE\n",
    "\n",
    "atbats_2018['_outs'] = atbats_2018['o'] - atbats_2018.groupby(['g_id', \n",
    "                                                'inning', \n",
    "                                                'top'])['o'].shift(1).fillna(0) #\n",
    "atbats_2018['IP'] = atbats_2018.groupby('pitcher_id')['_outs'].transform(pd.Series.cumsum) / 3"
   ]
  },
  {
   "cell_type": "code",
   "execution_count": 10,
   "metadata": {
    "id": "hg9Sa9nrfzbw",
    "outputId": "c7040d74-694a-4f9f-b4c2-3c7cd181c5f2",
    "scrolled": true
   },
   "outputs": [
    {
     "data": {
      "text/plain": [
       "Index(['Unnamed: 0', 'ab_id', 'batter_id', 'g_id', 'inning', 'o', 'p_score',\n",
       "       'p_throws', 'pitcher_id', 'stand', 'top', 'year', '_1B', '_2B', '_3B',\n",
       "       '_BB', '_BGO', '_BI', '_BLO', '_BPO', '_CI', '_DP', '_FC', '_FCO',\n",
       "       '_FO', '_FORCE', '_GIDP', '_GO', '_HBP', '_HR', '_IBB', '_K', '_KDP',\n",
       "       '_LO', '_PO', '_RO', '_ROE', '_SAC', '_SBDP', '_SF', '_SFDP', '_TP',\n",
       "       'event', '_H', '_TB', '_AB', '_PA', '_outs', 'IP'],\n",
       "      dtype='object')"
      ]
     },
     "execution_count": 10,
     "metadata": {},
     "output_type": "execute_result"
    }
   ],
   "source": [
    "atbats_2018.columns"
   ]
  },
  {
   "cell_type": "markdown",
   "metadata": {
    "id": "wPoZFPOLfzbw"
   },
   "source": [
    "### Pitchers ranked by batting stats:"
   ]
  },
  {
   "cell_type": "code",
   "execution_count": 11,
   "metadata": {
    "id": "nweztZoKfzbw",
    "outputId": "0e8d0acc-05a6-4d3d-f8f0-56633e505406"
   },
   "outputs": [
    {
     "data": {
      "text/html": [
       "<div>\n",
       "<style scoped>\n",
       "    .dataframe tbody tr th:only-of-type {\n",
       "        vertical-align: middle;\n",
       "    }\n",
       "\n",
       "    .dataframe tbody tr th {\n",
       "        vertical-align: top;\n",
       "    }\n",
       "\n",
       "    .dataframe thead th {\n",
       "        text-align: right;\n",
       "    }\n",
       "</style>\n",
       "<table border=\"1\" class=\"dataframe\">\n",
       "  <thead>\n",
       "    <tr style=\"text-align: right;\">\n",
       "      <th></th>\n",
       "      <th>Unnamed: 0</th>\n",
       "      <th>ab_id</th>\n",
       "      <th>batter_id</th>\n",
       "      <th>g_id</th>\n",
       "      <th>inning</th>\n",
       "      <th>o</th>\n",
       "      <th>p_score</th>\n",
       "      <th>p_throws</th>\n",
       "      <th>pitcher_id</th>\n",
       "      <th>stand</th>\n",
       "      <th>...</th>\n",
       "      <th>_SF</th>\n",
       "      <th>_SFDP</th>\n",
       "      <th>_TP</th>\n",
       "      <th>event</th>\n",
       "      <th>_H</th>\n",
       "      <th>_TB</th>\n",
       "      <th>_AB</th>\n",
       "      <th>_PA</th>\n",
       "      <th>_outs</th>\n",
       "      <th>IP</th>\n",
       "    </tr>\n",
       "  </thead>\n",
       "  <tbody>\n",
       "    <tr>\n",
       "      <td>0</td>\n",
       "      <td>554815</td>\n",
       "      <td>2018000001</td>\n",
       "      <td>446359</td>\n",
       "      <td>201800001</td>\n",
       "      <td>1</td>\n",
       "      <td>1</td>\n",
       "      <td>0</td>\n",
       "      <td>R</td>\n",
       "      <td>608665</td>\n",
       "      <td>R</td>\n",
       "      <td>...</td>\n",
       "      <td>0</td>\n",
       "      <td>0</td>\n",
       "      <td>0</td>\n",
       "      <td>K</td>\n",
       "      <td>0</td>\n",
       "      <td>0</td>\n",
       "      <td>1</td>\n",
       "      <td>1</td>\n",
       "      <td>1.0</td>\n",
       "      <td>0.333333</td>\n",
       "    </tr>\n",
       "    <tr>\n",
       "      <td>1</td>\n",
       "      <td>554816</td>\n",
       "      <td>2018000002</td>\n",
       "      <td>545361</td>\n",
       "      <td>201800001</td>\n",
       "      <td>1</td>\n",
       "      <td>2</td>\n",
       "      <td>0</td>\n",
       "      <td>R</td>\n",
       "      <td>608665</td>\n",
       "      <td>R</td>\n",
       "      <td>...</td>\n",
       "      <td>0</td>\n",
       "      <td>0</td>\n",
       "      <td>0</td>\n",
       "      <td>GO</td>\n",
       "      <td>0</td>\n",
       "      <td>0</td>\n",
       "      <td>1</td>\n",
       "      <td>1</td>\n",
       "      <td>1.0</td>\n",
       "      <td>0.666667</td>\n",
       "    </tr>\n",
       "    <tr>\n",
       "      <td>2</td>\n",
       "      <td>554817</td>\n",
       "      <td>2018000003</td>\n",
       "      <td>457708</td>\n",
       "      <td>201800001</td>\n",
       "      <td>1</td>\n",
       "      <td>3</td>\n",
       "      <td>0</td>\n",
       "      <td>R</td>\n",
       "      <td>608665</td>\n",
       "      <td>R</td>\n",
       "      <td>...</td>\n",
       "      <td>0</td>\n",
       "      <td>0</td>\n",
       "      <td>0</td>\n",
       "      <td>PO</td>\n",
       "      <td>0</td>\n",
       "      <td>0</td>\n",
       "      <td>1</td>\n",
       "      <td>1</td>\n",
       "      <td>1.0</td>\n",
       "      <td>1.000000</td>\n",
       "    </tr>\n",
       "    <tr>\n",
       "      <td>3</td>\n",
       "      <td>554818</td>\n",
       "      <td>2018000004</td>\n",
       "      <td>459964</td>\n",
       "      <td>201800001</td>\n",
       "      <td>1</td>\n",
       "      <td>0</td>\n",
       "      <td>0</td>\n",
       "      <td>R</td>\n",
       "      <td>572070</td>\n",
       "      <td>L</td>\n",
       "      <td>...</td>\n",
       "      <td>0</td>\n",
       "      <td>0</td>\n",
       "      <td>0</td>\n",
       "      <td>1B</td>\n",
       "      <td>1</td>\n",
       "      <td>1</td>\n",
       "      <td>1</td>\n",
       "      <td>1</td>\n",
       "      <td>0.0</td>\n",
       "      <td>0.000000</td>\n",
       "    </tr>\n",
       "    <tr>\n",
       "      <td>4</td>\n",
       "      <td>554819</td>\n",
       "      <td>2018000005</td>\n",
       "      <td>543760</td>\n",
       "      <td>201800001</td>\n",
       "      <td>1</td>\n",
       "      <td>0</td>\n",
       "      <td>0</td>\n",
       "      <td>R</td>\n",
       "      <td>572070</td>\n",
       "      <td>R</td>\n",
       "      <td>...</td>\n",
       "      <td>0</td>\n",
       "      <td>0</td>\n",
       "      <td>0</td>\n",
       "      <td>1B</td>\n",
       "      <td>1</td>\n",
       "      <td>1</td>\n",
       "      <td>1</td>\n",
       "      <td>1</td>\n",
       "      <td>0.0</td>\n",
       "      <td>0.000000</td>\n",
       "    </tr>\n",
       "  </tbody>\n",
       "</table>\n",
       "<p>5 rows × 49 columns</p>\n",
       "</div>"
      ],
      "text/plain": [
       "   Unnamed: 0       ab_id  batter_id       g_id  inning  o  p_score p_throws  \\\n",
       "0      554815  2018000001     446359  201800001       1  1        0        R   \n",
       "1      554816  2018000002     545361  201800001       1  2        0        R   \n",
       "2      554817  2018000003     457708  201800001       1  3        0        R   \n",
       "3      554818  2018000004     459964  201800001       1  0        0        R   \n",
       "4      554819  2018000005     543760  201800001       1  0        0        R   \n",
       "\n",
       "   pitcher_id stand  ...  _SF  _SFDP  _TP  event  _H  _TB  _AB  _PA  _outs  \\\n",
       "0      608665     R  ...    0      0    0      K   0    0    1    1    1.0   \n",
       "1      608665     R  ...    0      0    0     GO   0    0    1    1    1.0   \n",
       "2      608665     R  ...    0      0    0     PO   0    0    1    1    1.0   \n",
       "3      572070     L  ...    0      0    0     1B   1    1    1    1    0.0   \n",
       "4      572070     R  ...    0      0    0     1B   1    1    1    1    0.0   \n",
       "\n",
       "         IP  \n",
       "0  0.333333  \n",
       "1  0.666667  \n",
       "2  1.000000  \n",
       "3  0.000000  \n",
       "4  0.000000  \n",
       "\n",
       "[5 rows x 49 columns]"
      ]
     },
     "execution_count": 11,
     "metadata": {},
     "output_type": "execute_result"
    }
   ],
   "source": [
    "atbats_2018.head()"
   ]
  },
  {
   "cell_type": "code",
   "execution_count": 12,
   "metadata": {
    "id": "1-OG4L-Sfzbw"
   },
   "outputs": [],
   "source": [
    "lefty_ids = atbats_2018[atbats_2018.p_throws=='L']['pitcher_id'].unique()\n",
    "righty_ids = atbats_2018[atbats_2018.p_throws=='R']['pitcher_id'].unique()"
   ]
  },
  {
   "cell_type": "code",
   "execution_count": 13,
   "metadata": {
    "id": "X9-_TSBzfzbw"
   },
   "outputs": [],
   "source": [
    "min_IP = atbats_2018.groupby('pitcher_id')['IP'].max() > 50\n",
    "#we want a boolean series to filter out only pitchers who have thrown at least 25 innings pitched "
   ]
  },
  {
   "cell_type": "code",
   "execution_count": 14,
   "metadata": {
    "id": "J6LbvSc5fzbw"
   },
   "outputs": [],
   "source": [
    "pitchers_list = player_list[player_list['id'].isin(atbats_2018.pitcher_id)]\n",
    "pitchers_list.set_index('id',inplace=True)"
   ]
  },
  {
   "cell_type": "code",
   "execution_count": 15,
   "metadata": {
    "id": "1seHH6prfzbw",
    "outputId": "ccf25fe5-4e83-4c26-a5df-a54a87a4c8e5",
    "scrolled": true
   },
   "outputs": [
    {
     "data": {
      "text/plain": [
       "799"
      ]
     },
     "execution_count": 15,
     "metadata": {},
     "output_type": "execute_result"
    }
   ],
   "source": [
    "len(atbats_2018.pitcher_id.unique()) #we have 799 unique pitchers"
   ]
  },
  {
   "cell_type": "code",
   "execution_count": 16,
   "metadata": {
    "id": "l3ic8x3xfzbw"
   },
   "outputs": [],
   "source": [
    "handedness = atbats_2018.groupby('pitcher_id')[['p_throws','pitcher_id']].tail(n=1).set_index('pitcher_id')"
   ]
  },
  {
   "cell_type": "code",
   "execution_count": 17,
   "metadata": {
    "id": "zFKtkym4fzbw"
   },
   "outputs": [],
   "source": [
    "pitchers_list = pitchers_list.join(handedness)"
   ]
  },
  {
   "cell_type": "markdown",
   "metadata": {
    "id": "y49pDJB3fzbw"
   },
   "source": [
    "### Batting Average Against"
   ]
  },
  {
   "cell_type": "code",
   "execution_count": 18,
   "metadata": {
    "id": "5PCm7zSFfzbw",
    "outputId": "da722787-088e-4c9c-efed-e3c1c03fcfb4",
    "scrolled": true
   },
   "outputs": [
    {
     "name": "stderr",
     "output_type": "stream",
     "text": [
      "C:\\Users\\anura\\Anaconda3\\lib\\site-packages\\ipykernel_launcher.py:1: RuntimeWarning: invalid value encountered in longlong_scalars\n",
      "  \"\"\"Entry point for launching an IPython kernel.\n"
     ]
    }
   ],
   "source": [
    "pitcher_avgs = atbats_2018.groupby('pitcher_id').apply(lambda x: x['_H'].sum()/x['_AB'].sum())\n",
    "pitcher_avgs = pd.merge(pitchers_list, pd.DataFrame(pitcher_avgs, columns=['BAA']), left_index=True, right_index=True)"
   ]
  },
  {
   "cell_type": "code",
   "execution_count": 19,
   "metadata": {
    "id": "1g8PJlOffzbw",
    "outputId": "57f4ed87-e9a5-41fd-ffed-2796dc36e3cd"
   },
   "outputs": [
    {
     "name": "stderr",
     "output_type": "stream",
     "text": [
      "C:\\Users\\anura\\Anaconda3\\lib\\site-packages\\ipykernel_launcher.py:1: UserWarning: Boolean Series key will be reindexed to match DataFrame index.\n",
      "  \"\"\"Entry point for launching an IPython kernel.\n"
     ]
    },
    {
     "data": {
      "text/html": [
       "<div>\n",
       "<style scoped>\n",
       "    .dataframe tbody tr th:only-of-type {\n",
       "        vertical-align: middle;\n",
       "    }\n",
       "\n",
       "    .dataframe tbody tr th {\n",
       "        vertical-align: top;\n",
       "    }\n",
       "\n",
       "    .dataframe thead th {\n",
       "        text-align: right;\n",
       "    }\n",
       "</style>\n",
       "<table border=\"1\" class=\"dataframe\">\n",
       "  <thead>\n",
       "    <tr style=\"text-align: right;\">\n",
       "      <th></th>\n",
       "      <th>first_name</th>\n",
       "      <th>last_name</th>\n",
       "      <th>p_throws</th>\n",
       "      <th>BAA</th>\n",
       "    </tr>\n",
       "  </thead>\n",
       "  <tbody>\n",
       "    <tr>\n",
       "      <td>600917</td>\n",
       "      <td>Jose</td>\n",
       "      <td>Leclerc</td>\n",
       "      <td>R</td>\n",
       "      <td>0.125654</td>\n",
       "    </tr>\n",
       "    <tr>\n",
       "      <td>623352</td>\n",
       "      <td>Josh</td>\n",
       "      <td>Hader</td>\n",
       "      <td>L</td>\n",
       "      <td>0.132353</td>\n",
       "    </tr>\n",
       "    <tr>\n",
       "      <td>547973</td>\n",
       "      <td>Aroldis</td>\n",
       "      <td>Chapman</td>\n",
       "      <td>L</td>\n",
       "      <td>0.135593</td>\n",
       "    </tr>\n",
       "    <tr>\n",
       "      <td>518886</td>\n",
       "      <td>Craig</td>\n",
       "      <td>Kimbrel</td>\n",
       "      <td>R</td>\n",
       "      <td>0.145540</td>\n",
       "    </tr>\n",
       "    <tr>\n",
       "      <td>606625</td>\n",
       "      <td>Reyes</td>\n",
       "      <td>Moronta</td>\n",
       "      <td>R</td>\n",
       "      <td>0.153846</td>\n",
       "    </tr>\n",
       "    <tr>\n",
       "      <td>622554</td>\n",
       "      <td>Seranthony</td>\n",
       "      <td>Dominguez</td>\n",
       "      <td>R</td>\n",
       "      <td>0.156863</td>\n",
       "    </tr>\n",
       "    <tr>\n",
       "      <td>493603</td>\n",
       "      <td>Adam</td>\n",
       "      <td>Ottavino</td>\n",
       "      <td>R</td>\n",
       "      <td>0.157692</td>\n",
       "    </tr>\n",
       "    <tr>\n",
       "      <td>595014</td>\n",
       "      <td>Blake</td>\n",
       "      <td>Treinen</td>\n",
       "      <td>R</td>\n",
       "      <td>0.158076</td>\n",
       "    </tr>\n",
       "    <tr>\n",
       "      <td>621242</td>\n",
       "      <td>Edwin</td>\n",
       "      <td>Diaz</td>\n",
       "      <td>R</td>\n",
       "      <td>0.159533</td>\n",
       "    </tr>\n",
       "    <tr>\n",
       "      <td>543521</td>\n",
       "      <td>Collin</td>\n",
       "      <td>McHugh</td>\n",
       "      <td>R</td>\n",
       "      <td>0.176471</td>\n",
       "    </tr>\n",
       "    <tr>\n",
       "      <td>605483</td>\n",
       "      <td>Blake</td>\n",
       "      <td>Snell</td>\n",
       "      <td>L</td>\n",
       "      <td>0.177778</td>\n",
       "    </tr>\n",
       "    <tr>\n",
       "      <td>621381</td>\n",
       "      <td>Matt</td>\n",
       "      <td>Strahm</td>\n",
       "      <td>L</td>\n",
       "      <td>0.178082</td>\n",
       "    </tr>\n",
       "    <tr>\n",
       "      <td>642547</td>\n",
       "      <td>Freddy</td>\n",
       "      <td>Peralta</td>\n",
       "      <td>R</td>\n",
       "      <td>0.178182</td>\n",
       "    </tr>\n",
       "    <tr>\n",
       "      <td>650895</td>\n",
       "      <td>Diego</td>\n",
       "      <td>Castillo</td>\n",
       "      <td>R</td>\n",
       "      <td>0.178218</td>\n",
       "    </tr>\n",
       "    <tr>\n",
       "      <td>467008</td>\n",
       "      <td>Pedro</td>\n",
       "      <td>Strop</td>\n",
       "      <td>R</td>\n",
       "      <td>0.179245</td>\n",
       "    </tr>\n",
       "  </tbody>\n",
       "</table>\n",
       "</div>"
      ],
      "text/plain": [
       "        first_name  last_name p_throws       BAA\n",
       "600917        Jose    Leclerc        R  0.125654\n",
       "623352        Josh      Hader        L  0.132353\n",
       "547973     Aroldis    Chapman        L  0.135593\n",
       "518886       Craig    Kimbrel        R  0.145540\n",
       "606625       Reyes    Moronta        R  0.153846\n",
       "622554  Seranthony  Dominguez        R  0.156863\n",
       "493603        Adam   Ottavino        R  0.157692\n",
       "595014       Blake    Treinen        R  0.158076\n",
       "621242       Edwin       Diaz        R  0.159533\n",
       "543521      Collin     McHugh        R  0.176471\n",
       "605483       Blake      Snell        L  0.177778\n",
       "621381        Matt     Strahm        L  0.178082\n",
       "642547      Freddy    Peralta        R  0.178182\n",
       "650895       Diego   Castillo        R  0.178218\n",
       "467008       Pedro      Strop        R  0.179245"
      ]
     },
     "execution_count": 19,
     "metadata": {},
     "output_type": "execute_result"
    }
   ],
   "source": [
    "pitcher_avgs[min_IP].sort_values('BAA').head(15)\n",
    "\n",
    "#among pitchers with 25 IP, there are our top 15 batters in terms of BAA\n",
    "#corroborated against 2018 stats, blake snell .178 and scherzer .188"
   ]
  },
  {
   "cell_type": "code",
   "execution_count": 20,
   "metadata": {
    "id": "-Q5MYEz3fzbw",
    "outputId": "d82a0aa4-37cb-4fa6-c2dd-f0c386b30905"
   },
   "outputs": [
    {
     "name": "stderr",
     "output_type": "stream",
     "text": [
      "C:\\Users\\anura\\Anaconda3\\lib\\site-packages\\ipykernel_launcher.py:1: UserWarning: Boolean Series key will be reindexed to match DataFrame index.\n",
      "  \"\"\"Entry point for launching an IPython kernel.\n"
     ]
    },
    {
     "data": {
      "text/html": [
       "<div>\n",
       "<style scoped>\n",
       "    .dataframe tbody tr th:only-of-type {\n",
       "        vertical-align: middle;\n",
       "    }\n",
       "\n",
       "    .dataframe tbody tr th {\n",
       "        vertical-align: top;\n",
       "    }\n",
       "\n",
       "    .dataframe thead th {\n",
       "        text-align: right;\n",
       "    }\n",
       "</style>\n",
       "<table border=\"1\" class=\"dataframe\">\n",
       "  <thead>\n",
       "    <tr style=\"text-align: right;\">\n",
       "      <th></th>\n",
       "      <th>L</th>\n",
       "      <th>R</th>\n",
       "    </tr>\n",
       "  </thead>\n",
       "  <tbody>\n",
       "    <tr>\n",
       "      <td>BAA</td>\n",
       "      <td>0.242697</td>\n",
       "      <td>0.239857</td>\n",
       "    </tr>\n",
       "  </tbody>\n",
       "</table>\n",
       "</div>"
      ],
      "text/plain": [
       "            L         R\n",
       "BAA  0.242697  0.239857"
      ]
     },
     "execution_count": 20,
     "metadata": {},
     "output_type": "execute_result"
    }
   ],
   "source": [
    "LR_aggregate = pd.DataFrame({'L':pitcher_avgs.loc[lefty_ids][min_IP].mean(),'R':pitcher_avgs.loc[righty_ids][min_IP].mean()})\n",
    "LR_aggregate"
   ]
  },
  {
   "cell_type": "markdown",
   "metadata": {
    "id": "eCisNX_Ufzbw"
   },
   "source": [
    "## K/9 Innings:"
   ]
  },
  {
   "cell_type": "code",
   "execution_count": 21,
   "metadata": {
    "id": "fya6wWIbfzbw",
    "outputId": "4e4ca02f-9c41-456b-8538-9c8ed3799e6d"
   },
   "outputs": [
    {
     "name": "stderr",
     "output_type": "stream",
     "text": [
      "C:\\Users\\anura\\Anaconda3\\lib\\site-packages\\ipykernel_launcher.py:1: RuntimeWarning: invalid value encountered in true_divide\n",
      "  \"\"\"Entry point for launching an IPython kernel.\n",
      "C:\\Users\\anura\\Anaconda3\\lib\\site-packages\\ipykernel_launcher.py:3: UserWarning: Boolean Series key will be reindexed to match DataFrame index.\n",
      "  This is separate from the ipykernel package so we can avoid doing imports until\n"
     ]
    },
    {
     "data": {
      "text/html": [
       "<div>\n",
       "<style scoped>\n",
       "    .dataframe tbody tr th:only-of-type {\n",
       "        vertical-align: middle;\n",
       "    }\n",
       "\n",
       "    .dataframe tbody tr th {\n",
       "        vertical-align: top;\n",
       "    }\n",
       "\n",
       "    .dataframe thead th {\n",
       "        text-align: right;\n",
       "    }\n",
       "</style>\n",
       "<table border=\"1\" class=\"dataframe\">\n",
       "  <thead>\n",
       "    <tr style=\"text-align: right;\">\n",
       "      <th></th>\n",
       "      <th>first_name</th>\n",
       "      <th>last_name</th>\n",
       "      <th>p_throws</th>\n",
       "      <th>K9</th>\n",
       "    </tr>\n",
       "  </thead>\n",
       "  <tbody>\n",
       "    <tr>\n",
       "      <td>547973</td>\n",
       "      <td>Aroldis</td>\n",
       "      <td>Chapman</td>\n",
       "      <td>L</td>\n",
       "      <td>16.305195</td>\n",
       "    </tr>\n",
       "    <tr>\n",
       "      <td>623352</td>\n",
       "      <td>Josh</td>\n",
       "      <td>Hader</td>\n",
       "      <td>L</td>\n",
       "      <td>15.823770</td>\n",
       "    </tr>\n",
       "    <tr>\n",
       "      <td>476454</td>\n",
       "      <td>Dellin</td>\n",
       "      <td>Betances</td>\n",
       "      <td>R</td>\n",
       "      <td>15.525000</td>\n",
       "    </tr>\n",
       "    <tr>\n",
       "      <td>621242</td>\n",
       "      <td>Edwin</td>\n",
       "      <td>Diaz</td>\n",
       "      <td>R</td>\n",
       "      <td>15.218182</td>\n",
       "    </tr>\n",
       "    <tr>\n",
       "      <td>608349</td>\n",
       "      <td>Corey</td>\n",
       "      <td>Knebel</td>\n",
       "      <td>R</td>\n",
       "      <td>14.313253</td>\n",
       "    </tr>\n",
       "    <tr>\n",
       "      <td>598264</td>\n",
       "      <td>Matt</td>\n",
       "      <td>Barnes</td>\n",
       "      <td>R</td>\n",
       "      <td>14.010811</td>\n",
       "    </tr>\n",
       "    <tr>\n",
       "      <td>518886</td>\n",
       "      <td>Craig</td>\n",
       "      <td>Kimbrel</td>\n",
       "      <td>R</td>\n",
       "      <td>13.860963</td>\n",
       "    </tr>\n",
       "    <tr>\n",
       "      <td>519242</td>\n",
       "      <td>Chris</td>\n",
       "      <td>Sale</td>\n",
       "      <td>L</td>\n",
       "      <td>13.500000</td>\n",
       "    </tr>\n",
       "    <tr>\n",
       "      <td>502748</td>\n",
       "      <td>Brad</td>\n",
       "      <td>Peacock</td>\n",
       "      <td>R</td>\n",
       "      <td>13.292308</td>\n",
       "    </tr>\n",
       "    <tr>\n",
       "      <td>543272</td>\n",
       "      <td>Brad</td>\n",
       "      <td>Hand</td>\n",
       "      <td>L</td>\n",
       "      <td>13.250000</td>\n",
       "    </tr>\n",
       "    <tr>\n",
       "      <td>600917</td>\n",
       "      <td>Jose</td>\n",
       "      <td>Leclerc</td>\n",
       "      <td>R</td>\n",
       "      <td>13.109827</td>\n",
       "    </tr>\n",
       "    <tr>\n",
       "      <td>493603</td>\n",
       "      <td>Adam</td>\n",
       "      <td>Ottavino</td>\n",
       "      <td>R</td>\n",
       "      <td>12.978541</td>\n",
       "    </tr>\n",
       "    <tr>\n",
       "      <td>489446</td>\n",
       "      <td>Kirby</td>\n",
       "      <td>Yates</td>\n",
       "      <td>R</td>\n",
       "      <td>12.857143</td>\n",
       "    </tr>\n",
       "    <tr>\n",
       "      <td>656945</td>\n",
       "      <td>Tanner</td>\n",
       "      <td>Scott</td>\n",
       "      <td>L</td>\n",
       "      <td>12.825000</td>\n",
       "    </tr>\n",
       "    <tr>\n",
       "      <td>519151</td>\n",
       "      <td>Ryan</td>\n",
       "      <td>Pressly</td>\n",
       "      <td>R</td>\n",
       "      <td>12.802817</td>\n",
       "    </tr>\n",
       "  </tbody>\n",
       "</table>\n",
       "</div>"
      ],
      "text/plain": [
       "       first_name last_name p_throws         K9\n",
       "547973    Aroldis   Chapman        L  16.305195\n",
       "623352       Josh     Hader        L  15.823770\n",
       "476454     Dellin  Betances        R  15.525000\n",
       "621242      Edwin      Diaz        R  15.218182\n",
       "608349      Corey    Knebel        R  14.313253\n",
       "598264       Matt    Barnes        R  14.010811\n",
       "518886      Craig   Kimbrel        R  13.860963\n",
       "519242      Chris      Sale        L  13.500000\n",
       "502748       Brad   Peacock        R  13.292308\n",
       "543272       Brad      Hand        L  13.250000\n",
       "600917       Jose   Leclerc        R  13.109827\n",
       "493603       Adam  Ottavino        R  12.978541\n",
       "489446      Kirby     Yates        R  12.857143\n",
       "656945     Tanner     Scott        L  12.825000\n",
       "519151       Ryan   Pressly        R  12.802817"
      ]
     },
     "execution_count": 21,
     "metadata": {},
     "output_type": "execute_result"
    }
   ],
   "source": [
    "pitcher_K9 = atbats_2018.groupby('pitcher_id').apply(lambda x: x['_K'].sum()/(x['IP'].max()/9))\n",
    "pitcher_K9 = pd.merge(pitchers_list, pd.DataFrame(pitcher_K9, columns=['K9']), left_index=True, right_index=True)\n",
    "pitcher_K9[min_IP].sort_values('K9', ascending=False).head(15)"
   ]
  },
  {
   "cell_type": "code",
   "execution_count": 22,
   "metadata": {
    "id": "u9qVwyaFfzbx",
    "outputId": "0ba1de71-4e0e-48dc-d552-cd82df3ef04f"
   },
   "outputs": [
    {
     "name": "stderr",
     "output_type": "stream",
     "text": [
      "C:\\Users\\anura\\Anaconda3\\lib\\site-packages\\ipykernel_launcher.py:1: UserWarning: Boolean Series key will be reindexed to match DataFrame index.\n",
      "  \"\"\"Entry point for launching an IPython kernel.\n"
     ]
    },
    {
     "data": {
      "text/html": [
       "<div>\n",
       "<style scoped>\n",
       "    .dataframe tbody tr th:only-of-type {\n",
       "        vertical-align: middle;\n",
       "    }\n",
       "\n",
       "    .dataframe tbody tr th {\n",
       "        vertical-align: top;\n",
       "    }\n",
       "\n",
       "    .dataframe thead th {\n",
       "        text-align: right;\n",
       "    }\n",
       "</style>\n",
       "<table border=\"1\" class=\"dataframe\">\n",
       "  <thead>\n",
       "    <tr style=\"text-align: right;\">\n",
       "      <th></th>\n",
       "      <th>L</th>\n",
       "      <th>R</th>\n",
       "    </tr>\n",
       "  </thead>\n",
       "  <tbody>\n",
       "    <tr>\n",
       "      <td>BAA</td>\n",
       "      <td>0.242697</td>\n",
       "      <td>0.239857</td>\n",
       "    </tr>\n",
       "    <tr>\n",
       "      <td>K9</td>\n",
       "      <td>8.677162</td>\n",
       "      <td>8.713415</td>\n",
       "    </tr>\n",
       "  </tbody>\n",
       "</table>\n",
       "</div>"
      ],
      "text/plain": [
       "            L         R\n",
       "BAA  0.242697  0.239857\n",
       "K9   8.677162  8.713415"
      ]
     },
     "execution_count": 22,
     "metadata": {},
     "output_type": "execute_result"
    }
   ],
   "source": [
    "LR_aggregate = pd.concat([LR_aggregate, pd.DataFrame({'L':pitcher_K9.loc[lefty_ids][min_IP].mean(),'R':pitcher_K9.loc[righty_ids][min_IP].mean()})]) \n",
    "LR_aggregate"
   ]
  },
  {
   "cell_type": "markdown",
   "metadata": {
    "id": "r0GeeUvFfzbx"
   },
   "source": [
    "## Fielding Independent Pitching"
   ]
  },
  {
   "cell_type": "code",
   "execution_count": 23,
   "metadata": {
    "id": "_mJu3l82fzbx",
    "outputId": "97e76ab8-5ca8-43a6-ab93-c64b18aba9fc"
   },
   "outputs": [
    {
     "name": "stderr",
     "output_type": "stream",
     "text": [
      "C:\\Users\\anura\\Anaconda3\\lib\\site-packages\\ipykernel_launcher.py:1: RuntimeWarning: divide by zero encountered in double_scalars\n",
      "  \"\"\"Entry point for launching an IPython kernel.\n",
      "C:\\Users\\anura\\Anaconda3\\lib\\site-packages\\ipykernel_launcher.py:3: UserWarning: Boolean Series key will be reindexed to match DataFrame index.\n",
      "  This is separate from the ipykernel package so we can avoid doing imports until\n"
     ]
    },
    {
     "data": {
      "text/html": [
       "<div>\n",
       "<style scoped>\n",
       "    .dataframe tbody tr th:only-of-type {\n",
       "        vertical-align: middle;\n",
       "    }\n",
       "\n",
       "    .dataframe tbody tr th {\n",
       "        vertical-align: top;\n",
       "    }\n",
       "\n",
       "    .dataframe thead th {\n",
       "        text-align: right;\n",
       "    }\n",
       "</style>\n",
       "<table border=\"1\" class=\"dataframe\">\n",
       "  <thead>\n",
       "    <tr style=\"text-align: right;\">\n",
       "      <th></th>\n",
       "      <th>first_name</th>\n",
       "      <th>last_name</th>\n",
       "      <th>p_throws</th>\n",
       "      <th>FIP</th>\n",
       "    </tr>\n",
       "  </thead>\n",
       "  <tbody>\n",
       "    <tr>\n",
       "      <td>621242</td>\n",
       "      <td>Edwin</td>\n",
       "      <td>Diaz</td>\n",
       "      <td>R</td>\n",
       "      <td>1.501818</td>\n",
       "    </tr>\n",
       "    <tr>\n",
       "      <td>595014</td>\n",
       "      <td>Blake</td>\n",
       "      <td>Treinen</td>\n",
       "      <td>R</td>\n",
       "      <td>1.850705</td>\n",
       "    </tr>\n",
       "    <tr>\n",
       "      <td>519242</td>\n",
       "      <td>Chris</td>\n",
       "      <td>Sale</td>\n",
       "      <td>L</td>\n",
       "      <td>1.859241</td>\n",
       "    </tr>\n",
       "    <tr>\n",
       "      <td>600917</td>\n",
       "      <td>Jose</td>\n",
       "      <td>Leclerc</td>\n",
       "      <td>R</td>\n",
       "      <td>1.884740</td>\n",
       "    </tr>\n",
       "    <tr>\n",
       "      <td>547973</td>\n",
       "      <td>Aroldis</td>\n",
       "      <td>Chapman</td>\n",
       "      <td>L</td>\n",
       "      <td>1.953766</td>\n",
       "    </tr>\n",
       "    <tr>\n",
       "      <td>594798</td>\n",
       "      <td>Jacob</td>\n",
       "      <td>deGrom</td>\n",
       "      <td>R</td>\n",
       "      <td>1.998802</td>\n",
       "    </tr>\n",
       "    <tr>\n",
       "      <td>519293</td>\n",
       "      <td>Will</td>\n",
       "      <td>Smith</td>\n",
       "      <td>L</td>\n",
       "      <td>2.125660</td>\n",
       "    </tr>\n",
       "    <tr>\n",
       "      <td>489334</td>\n",
       "      <td>Craig</td>\n",
       "      <td>Stammen</td>\n",
       "      <td>R</td>\n",
       "      <td>2.169367</td>\n",
       "    </tr>\n",
       "    <tr>\n",
       "      <td>623352</td>\n",
       "      <td>Josh</td>\n",
       "      <td>Hader</td>\n",
       "      <td>L</td>\n",
       "      <td>2.260984</td>\n",
       "    </tr>\n",
       "    <tr>\n",
       "      <td>621237</td>\n",
       "      <td>Jose</td>\n",
       "      <td>Alvarado</td>\n",
       "      <td>L</td>\n",
       "      <td>2.298125</td>\n",
       "    </tr>\n",
       "    <tr>\n",
       "      <td>573124</td>\n",
       "      <td>Taylor</td>\n",
       "      <td>Rogers</td>\n",
       "      <td>L</td>\n",
       "      <td>2.327317</td>\n",
       "    </tr>\n",
       "    <tr>\n",
       "      <td>476454</td>\n",
       "      <td>Dellin</td>\n",
       "      <td>Betances</td>\n",
       "      <td>R</td>\n",
       "      <td>2.380000</td>\n",
       "    </tr>\n",
       "    <tr>\n",
       "      <td>545333</td>\n",
       "      <td>Trevor</td>\n",
       "      <td>Bauer</td>\n",
       "      <td>R</td>\n",
       "      <td>2.393004</td>\n",
       "    </tr>\n",
       "    <tr>\n",
       "      <td>501789</td>\n",
       "      <td>Will</td>\n",
       "      <td>Harris</td>\n",
       "      <td>R</td>\n",
       "      <td>2.425882</td>\n",
       "    </tr>\n",
       "    <tr>\n",
       "      <td>465657</td>\n",
       "      <td>Joakim</td>\n",
       "      <td>Soria</td>\n",
       "      <td>R</td>\n",
       "      <td>2.428791</td>\n",
       "    </tr>\n",
       "  </tbody>\n",
       "</table>\n",
       "</div>"
      ],
      "text/plain": [
       "       first_name last_name p_throws       FIP\n",
       "621242      Edwin      Diaz        R  1.501818\n",
       "595014      Blake   Treinen        R  1.850705\n",
       "519242      Chris      Sale        L  1.859241\n",
       "600917       Jose   Leclerc        R  1.884740\n",
       "547973    Aroldis   Chapman        L  1.953766\n",
       "594798      Jacob    deGrom        R  1.998802\n",
       "519293       Will     Smith        L  2.125660\n",
       "489334      Craig   Stammen        R  2.169367\n",
       "623352       Josh     Hader        L  2.260984\n",
       "621237       Jose  Alvarado        L  2.298125\n",
       "573124     Taylor    Rogers        L  2.327317\n",
       "476454     Dellin  Betances        R  2.380000\n",
       "545333     Trevor     Bauer        R  2.393004\n",
       "501789       Will    Harris        R  2.425882\n",
       "465657     Joakim     Soria        R  2.428791"
      ]
     },
     "execution_count": 23,
     "metadata": {},
     "output_type": "execute_result"
    }
   ],
   "source": [
    "pitcher_FIP = atbats_2018.groupby('pitcher_id').apply(lambda x: (13*x['_HR'].sum()+3*x['_BB'].sum()+x['_HBP'].sum()-2.0*x['_K'].sum())/x['IP'].max()+3.22)\n",
    "pitcher_FIP = pd.merge(pitchers_list, pd.DataFrame(pitcher_FIP, columns=['FIP']), left_index=True, right_index=True)\n",
    "pitcher_FIP[min_IP].sort_values('FIP', ascending=True).head(15)"
   ]
  },
  {
   "cell_type": "code",
   "execution_count": 24,
   "metadata": {
    "id": "dyucaG9Bfzbx",
    "outputId": "675f4698-e960-43d1-8d43-822374c6fa84"
   },
   "outputs": [
    {
     "name": "stderr",
     "output_type": "stream",
     "text": [
      "C:\\Users\\anura\\Anaconda3\\lib\\site-packages\\ipykernel_launcher.py:1: UserWarning: Boolean Series key will be reindexed to match DataFrame index.\n",
      "  \"\"\"Entry point for launching an IPython kernel.\n"
     ]
    },
    {
     "data": {
      "text/html": [
       "<div>\n",
       "<style scoped>\n",
       "    .dataframe tbody tr th:only-of-type {\n",
       "        vertical-align: middle;\n",
       "    }\n",
       "\n",
       "    .dataframe tbody tr th {\n",
       "        vertical-align: top;\n",
       "    }\n",
       "\n",
       "    .dataframe thead th {\n",
       "        text-align: right;\n",
       "    }\n",
       "</style>\n",
       "<table border=\"1\" class=\"dataframe\">\n",
       "  <thead>\n",
       "    <tr style=\"text-align: right;\">\n",
       "      <th></th>\n",
       "      <th>L</th>\n",
       "      <th>R</th>\n",
       "    </tr>\n",
       "  </thead>\n",
       "  <tbody>\n",
       "    <tr>\n",
       "      <td>BAA</td>\n",
       "      <td>0.242697</td>\n",
       "      <td>0.239857</td>\n",
       "    </tr>\n",
       "    <tr>\n",
       "      <td>K9</td>\n",
       "      <td>8.677162</td>\n",
       "      <td>8.713415</td>\n",
       "    </tr>\n",
       "    <tr>\n",
       "      <td>FIP</td>\n",
       "      <td>3.904079</td>\n",
       "      <td>3.985036</td>\n",
       "    </tr>\n",
       "  </tbody>\n",
       "</table>\n",
       "</div>"
      ],
      "text/plain": [
       "            L         R\n",
       "BAA  0.242697  0.239857\n",
       "K9   8.677162  8.713415\n",
       "FIP  3.904079  3.985036"
      ]
     },
     "execution_count": 24,
     "metadata": {},
     "output_type": "execute_result"
    }
   ],
   "source": [
    "LR_aggregate = pd.concat([LR_aggregate, pd.DataFrame({'L':pitcher_FIP.loc[lefty_ids][min_IP].mean(),'R':pitcher_FIP.loc[righty_ids][min_IP].mean()})]) \n",
    "LR_aggregate"
   ]
  },
  {
   "cell_type": "markdown",
   "metadata": {
    "id": "K7dn_ap9fzbx"
   },
   "source": [
    "## Walks and Hits per Innings Pitched (WHIP)"
   ]
  },
  {
   "cell_type": "code",
   "execution_count": 25,
   "metadata": {
    "id": "oE94FyeZfzbx",
    "outputId": "441f8b5a-4682-498d-9550-d9e41ad0b611"
   },
   "outputs": [
    {
     "name": "stderr",
     "output_type": "stream",
     "text": [
      "C:\\Users\\anura\\Anaconda3\\lib\\site-packages\\ipykernel_launcher.py:1: RuntimeWarning: divide by zero encountered in true_divide\n",
      "  \"\"\"Entry point for launching an IPython kernel.\n",
      "C:\\Users\\anura\\Anaconda3\\lib\\site-packages\\ipykernel_launcher.py:3: UserWarning: Boolean Series key will be reindexed to match DataFrame index.\n",
      "  This is separate from the ipykernel package so we can avoid doing imports until\n"
     ]
    },
    {
     "data": {
      "text/html": [
       "<div>\n",
       "<style scoped>\n",
       "    .dataframe tbody tr th:only-of-type {\n",
       "        vertical-align: middle;\n",
       "    }\n",
       "\n",
       "    .dataframe tbody tr th {\n",
       "        vertical-align: top;\n",
       "    }\n",
       "\n",
       "    .dataframe thead th {\n",
       "        text-align: right;\n",
       "    }\n",
       "</style>\n",
       "<table border=\"1\" class=\"dataframe\">\n",
       "  <thead>\n",
       "    <tr style=\"text-align: right;\">\n",
       "      <th></th>\n",
       "      <th>first_name</th>\n",
       "      <th>last_name</th>\n",
       "      <th>p_throws</th>\n",
       "      <th>WHIP</th>\n",
       "    </tr>\n",
       "  </thead>\n",
       "  <tbody>\n",
       "    <tr>\n",
       "      <td>621242</td>\n",
       "      <td>Edwin</td>\n",
       "      <td>Diaz</td>\n",
       "      <td>R</td>\n",
       "      <td>0.790909</td>\n",
       "    </tr>\n",
       "    <tr>\n",
       "      <td>623352</td>\n",
       "      <td>Josh</td>\n",
       "      <td>Hader</td>\n",
       "      <td>L</td>\n",
       "      <td>0.811475</td>\n",
       "    </tr>\n",
       "    <tr>\n",
       "      <td>595014</td>\n",
       "      <td>Blake</td>\n",
       "      <td>Treinen</td>\n",
       "      <td>R</td>\n",
       "      <td>0.834025</td>\n",
       "    </tr>\n",
       "    <tr>\n",
       "      <td>600917</td>\n",
       "      <td>Jose</td>\n",
       "      <td>Leclerc</td>\n",
       "      <td>R</td>\n",
       "      <td>0.849711</td>\n",
       "    </tr>\n",
       "    <tr>\n",
       "      <td>519242</td>\n",
       "      <td>Chris</td>\n",
       "      <td>Sale</td>\n",
       "      <td>L</td>\n",
       "      <td>0.860759</td>\n",
       "    </tr>\n",
       "    <tr>\n",
       "      <td>434378</td>\n",
       "      <td>Justin</td>\n",
       "      <td>Verlander</td>\n",
       "      <td>R</td>\n",
       "      <td>0.901869</td>\n",
       "    </tr>\n",
       "    <tr>\n",
       "      <td>453286</td>\n",
       "      <td>Max</td>\n",
       "      <td>Scherzer</td>\n",
       "      <td>R</td>\n",
       "      <td>0.910876</td>\n",
       "    </tr>\n",
       "    <tr>\n",
       "      <td>594798</td>\n",
       "      <td>Jacob</td>\n",
       "      <td>deGrom</td>\n",
       "      <td>R</td>\n",
       "      <td>0.912442</td>\n",
       "    </tr>\n",
       "    <tr>\n",
       "      <td>543521</td>\n",
       "      <td>Collin</td>\n",
       "      <td>McHugh</td>\n",
       "      <td>R</td>\n",
       "      <td>0.912442</td>\n",
       "    </tr>\n",
       "    <tr>\n",
       "      <td>489446</td>\n",
       "      <td>Kirby</td>\n",
       "      <td>Yates</td>\n",
       "      <td>R</td>\n",
       "      <td>0.920635</td>\n",
       "    </tr>\n",
       "    <tr>\n",
       "      <td>622554</td>\n",
       "      <td>Seranthony</td>\n",
       "      <td>Dominguez</td>\n",
       "      <td>R</td>\n",
       "      <td>0.931034</td>\n",
       "    </tr>\n",
       "    <tr>\n",
       "      <td>573124</td>\n",
       "      <td>Taylor</td>\n",
       "      <td>Rogers</td>\n",
       "      <td>L</td>\n",
       "      <td>0.951220</td>\n",
       "    </tr>\n",
       "    <tr>\n",
       "      <td>650895</td>\n",
       "      <td>Diego</td>\n",
       "      <td>Castillo</td>\n",
       "      <td>R</td>\n",
       "      <td>0.952941</td>\n",
       "    </tr>\n",
       "    <tr>\n",
       "      <td>621111</td>\n",
       "      <td>Walker</td>\n",
       "      <td>Buehler</td>\n",
       "      <td>R</td>\n",
       "      <td>0.961165</td>\n",
       "    </tr>\n",
       "    <tr>\n",
       "      <td>623184</td>\n",
       "      <td>Scott</td>\n",
       "      <td>Oberg</td>\n",
       "      <td>R</td>\n",
       "      <td>0.971591</td>\n",
       "    </tr>\n",
       "  </tbody>\n",
       "</table>\n",
       "</div>"
      ],
      "text/plain": [
       "        first_name  last_name p_throws      WHIP\n",
       "621242       Edwin       Diaz        R  0.790909\n",
       "623352        Josh      Hader        L  0.811475\n",
       "595014       Blake    Treinen        R  0.834025\n",
       "600917        Jose    Leclerc        R  0.849711\n",
       "519242       Chris       Sale        L  0.860759\n",
       "434378      Justin  Verlander        R  0.901869\n",
       "453286         Max   Scherzer        R  0.910876\n",
       "594798       Jacob     deGrom        R  0.912442\n",
       "543521      Collin     McHugh        R  0.912442\n",
       "489446       Kirby      Yates        R  0.920635\n",
       "622554  Seranthony  Dominguez        R  0.931034\n",
       "573124      Taylor     Rogers        L  0.951220\n",
       "650895       Diego   Castillo        R  0.952941\n",
       "621111      Walker    Buehler        R  0.961165\n",
       "623184       Scott      Oberg        R  0.971591"
      ]
     },
     "execution_count": 25,
     "metadata": {},
     "output_type": "execute_result"
    }
   ],
   "source": [
    "pitcher_WHIP = atbats_2018.groupby('pitcher_id').apply(lambda x: (x['_BB'].sum()+x['_H'].sum())/x['IP'].max())\n",
    "pitcher_WHIP = pd.merge(pitchers_list, pd.DataFrame(pitcher_WHIP, columns=['WHIP']), left_index=True, right_index=True)\n",
    "pitcher_WHIP[min_IP].sort_values('WHIP', ascending=True).head(15)"
   ]
  },
  {
   "cell_type": "code",
   "execution_count": 26,
   "metadata": {
    "id": "RBihEJvifzbx",
    "outputId": "c3223305-dff7-403d-8416-4e1618d6964b",
    "scrolled": true
   },
   "outputs": [
    {
     "name": "stderr",
     "output_type": "stream",
     "text": [
      "C:\\Users\\anura\\Anaconda3\\lib\\site-packages\\ipykernel_launcher.py:1: UserWarning: Boolean Series key will be reindexed to match DataFrame index.\n",
      "  \"\"\"Entry point for launching an IPython kernel.\n"
     ]
    },
    {
     "data": {
      "text/html": [
       "<div>\n",
       "<style scoped>\n",
       "    .dataframe tbody tr th:only-of-type {\n",
       "        vertical-align: middle;\n",
       "    }\n",
       "\n",
       "    .dataframe tbody tr th {\n",
       "        vertical-align: top;\n",
       "    }\n",
       "\n",
       "    .dataframe thead th {\n",
       "        text-align: right;\n",
       "    }\n",
       "</style>\n",
       "<table border=\"1\" class=\"dataframe\">\n",
       "  <thead>\n",
       "    <tr style=\"text-align: right;\">\n",
       "      <th></th>\n",
       "      <th>L</th>\n",
       "      <th>R</th>\n",
       "    </tr>\n",
       "  </thead>\n",
       "  <tbody>\n",
       "    <tr>\n",
       "      <td>BAA</td>\n",
       "      <td>0.242697</td>\n",
       "      <td>0.239857</td>\n",
       "    </tr>\n",
       "    <tr>\n",
       "      <td>K9</td>\n",
       "      <td>8.677162</td>\n",
       "      <td>8.713415</td>\n",
       "    </tr>\n",
       "    <tr>\n",
       "      <td>FIP</td>\n",
       "      <td>3.904079</td>\n",
       "      <td>3.985036</td>\n",
       "    </tr>\n",
       "    <tr>\n",
       "      <td>WHIP</td>\n",
       "      <td>1.285686</td>\n",
       "      <td>1.260045</td>\n",
       "    </tr>\n",
       "  </tbody>\n",
       "</table>\n",
       "</div>"
      ],
      "text/plain": [
       "             L         R\n",
       "BAA   0.242697  0.239857\n",
       "K9    8.677162  8.713415\n",
       "FIP   3.904079  3.985036\n",
       "WHIP  1.285686  1.260045"
      ]
     },
     "execution_count": 26,
     "metadata": {},
     "output_type": "execute_result"
    }
   ],
   "source": [
    "LR_aggregate = pd.concat([LR_aggregate, pd.DataFrame({'L':pitcher_WHIP.loc[lefty_ids][min_IP].mean(),'R':pitcher_WHIP.loc[righty_ids][min_IP].mean()})]) \n",
    "LR_aggregate"
   ]
  },
  {
   "cell_type": "markdown",
   "metadata": {
    "id": "lpsXxXHRfzbx"
   },
   "source": [
    "Can we draw any conclusions about the performance of left and right handers this season? Well, not exactly given that they are fairly similar - it would appear that on an aggregate level, LHPs and RHPs are able to limit batters to the same number of hits and runs while striking them out at a similar rate. "
   ]
  },
  {
   "cell_type": "markdown",
   "metadata": {
    "id": "13FgK7Hjfzbx"
   },
   "source": [
    "## Exploring the Platoon Advantage:"
   ]
  },
  {
   "cell_type": "markdown",
   "metadata": {
    "id": "NRYQCCrTfzbx"
   },
   "source": [
    "## Pitching Data:"
   ]
  },
  {
   "cell_type": "markdown",
   "metadata": {
    "id": "os-IiEFrfzbx"
   },
   "source": [
    "### Characterizing pitch quality between left and right handed batters"
   ]
  },
  {
   "cell_type": "markdown",
   "metadata": {
    "id": "012Pe1Fdfzbx"
   },
   "source": [
    "Glossary: https://fastballs.wordpress.com/2007/08/02/glossary-of-the-gameday-pitch-fields/"
   ]
  },
  {
   "cell_type": "code",
   "execution_count": 27,
   "metadata": {
    "id": "P7CJu3mYfzbx"
   },
   "outputs": [],
   "source": [
    "pitches_2018 = pitches[pitches['ab_id']//1e6 == 2018]"
   ]
  },
  {
   "cell_type": "code",
   "execution_count": 28,
   "metadata": {
    "id": "MJy-U9XCfzbx",
    "outputId": "962f7ea2-fc75-4d51-e430-370e8f49aac3"
   },
   "outputs": [
    {
     "name": "stdout",
     "output_type": "stream",
     "text": [
      "<class 'pandas.core.frame.DataFrame'>\n",
      "Int64Index: 724444 entries, 2142710 to 2867153\n",
      "Data columns (total 40 columns):\n",
      "px                 718322 non-null float64\n",
      "pz                 718322 non-null float64\n",
      "start_speed        718334 non-null float64\n",
      "end_speed          718334 non-null float64\n",
      "spin_rate          718322 non-null float64\n",
      "spin_dir           718322 non-null float64\n",
      "break_angle        718322 non-null float64\n",
      "break_length       718322 non-null float64\n",
      "break_y            718322 non-null float64\n",
      "ax                 718322 non-null float64\n",
      "ay                 718322 non-null float64\n",
      "az                 718322 non-null float64\n",
      "sz_bot             723353 non-null float64\n",
      "sz_top             723353 non-null float64\n",
      "type_confidence    718322 non-null float64\n",
      "vx0                718322 non-null float64\n",
      "vy0                718322 non-null float64\n",
      "vz0                718322 non-null float64\n",
      "x                  724444 non-null float64\n",
      "x0                 718322 non-null float64\n",
      "y                  724444 non-null float64\n",
      "y0                 718322 non-null float64\n",
      "z0                 718322 non-null float64\n",
      "pfx_x              718322 non-null float64\n",
      "pfx_z              718322 non-null float64\n",
      "nasty              718322 non-null float64\n",
      "zone               718322 non-null float64\n",
      "code               724444 non-null object\n",
      "type               724444 non-null object\n",
      "pitch_type         718322 non-null object\n",
      "event_num          724444 non-null int64\n",
      "b_score            724444 non-null float64\n",
      "ab_id              724444 non-null float64\n",
      "b_count            724444 non-null float64\n",
      "s_count            724444 non-null float64\n",
      "outs               724444 non-null float64\n",
      "pitch_num          724444 non-null float64\n",
      "on_1b              724444 non-null float64\n",
      "on_2b              724444 non-null float64\n",
      "on_3b              724444 non-null float64\n",
      "dtypes: float64(36), int64(1), object(3)\n",
      "memory usage: 226.6+ MB\n"
     ]
    }
   ],
   "source": [
    "pitches_2018.info()"
   ]
  },
  {
   "cell_type": "code",
   "execution_count": 29,
   "metadata": {
    "id": "dWdXYSTZfzbx",
    "outputId": "79cded62-85d1-4a46-dc7c-ec8f43416ef5"
   },
   "outputs": [
    {
     "name": "stderr",
     "output_type": "stream",
     "text": [
      "C:\\Users\\anura\\Anaconda3\\lib\\site-packages\\ipykernel_launcher.py:1: SettingWithCopyWarning: \n",
      "A value is trying to be set on a copy of a slice from a DataFrame\n",
      "\n",
      "See the caveats in the documentation: http://pandas.pydata.org/pandas-docs/stable/user_guide/indexing.html#returning-a-view-versus-a-copy\n",
      "  \"\"\"Entry point for launching an IPython kernel.\n"
     ]
    }
   ],
   "source": [
    "pitches_2018.dropna(inplace=True)"
   ]
  },
  {
   "cell_type": "code",
   "execution_count": 30,
   "metadata": {
    "id": "fEQkZIEdfzbx",
    "outputId": "315962b4-3c82-418d-cac0-d2ec7e7365ae"
   },
   "outputs": [
    {
     "data": {
      "text/html": [
       "<div>\n",
       "<style scoped>\n",
       "    .dataframe tbody tr th:only-of-type {\n",
       "        vertical-align: middle;\n",
       "    }\n",
       "\n",
       "    .dataframe tbody tr th {\n",
       "        vertical-align: top;\n",
       "    }\n",
       "\n",
       "    .dataframe thead th {\n",
       "        text-align: right;\n",
       "    }\n",
       "</style>\n",
       "<table border=\"1\" class=\"dataframe\">\n",
       "  <thead>\n",
       "    <tr style=\"text-align: right;\">\n",
       "      <th></th>\n",
       "      <th>px</th>\n",
       "      <th>pz</th>\n",
       "      <th>start_speed</th>\n",
       "      <th>end_speed</th>\n",
       "      <th>spin_rate</th>\n",
       "      <th>spin_dir</th>\n",
       "      <th>break_angle</th>\n",
       "      <th>break_length</th>\n",
       "      <th>break_y</th>\n",
       "      <th>ax</th>\n",
       "      <th>...</th>\n",
       "      <th>event_num</th>\n",
       "      <th>b_score</th>\n",
       "      <th>ab_id</th>\n",
       "      <th>b_count</th>\n",
       "      <th>s_count</th>\n",
       "      <th>outs</th>\n",
       "      <th>pitch_num</th>\n",
       "      <th>on_1b</th>\n",
       "      <th>on_2b</th>\n",
       "      <th>on_3b</th>\n",
       "    </tr>\n",
       "  </thead>\n",
       "  <tbody>\n",
       "    <tr>\n",
       "      <td>2142710</td>\n",
       "      <td>0.239615</td>\n",
       "      <td>1.848781</td>\n",
       "      <td>93.7</td>\n",
       "      <td>84.5</td>\n",
       "      <td>2632.270</td>\n",
       "      <td>233.718</td>\n",
       "      <td>43.7</td>\n",
       "      <td>5.8</td>\n",
       "      <td>23.7</td>\n",
       "      <td>-19.911162</td>\n",
       "      <td>...</td>\n",
       "      <td>3</td>\n",
       "      <td>0.0</td>\n",
       "      <td>2.018000e+09</td>\n",
       "      <td>0.0</td>\n",
       "      <td>0.0</td>\n",
       "      <td>0.0</td>\n",
       "      <td>1.0</td>\n",
       "      <td>0.0</td>\n",
       "      <td>0.0</td>\n",
       "      <td>0.0</td>\n",
       "    </tr>\n",
       "    <tr>\n",
       "      <td>2142711</td>\n",
       "      <td>-0.804047</td>\n",
       "      <td>0.925201</td>\n",
       "      <td>94.0</td>\n",
       "      <td>85.8</td>\n",
       "      <td>2561.181</td>\n",
       "      <td>236.246</td>\n",
       "      <td>42.7</td>\n",
       "      <td>6.1</td>\n",
       "      <td>23.8</td>\n",
       "      <td>-20.043108</td>\n",
       "      <td>...</td>\n",
       "      <td>4</td>\n",
       "      <td>0.0</td>\n",
       "      <td>2.018000e+09</td>\n",
       "      <td>0.0</td>\n",
       "      <td>1.0</td>\n",
       "      <td>0.0</td>\n",
       "      <td>2.0</td>\n",
       "      <td>0.0</td>\n",
       "      <td>0.0</td>\n",
       "      <td>0.0</td>\n",
       "    </tr>\n",
       "    <tr>\n",
       "      <td>2142712</td>\n",
       "      <td>0.598637</td>\n",
       "      <td>1.616677</td>\n",
       "      <td>94.7</td>\n",
       "      <td>86.5</td>\n",
       "      <td>2673.854</td>\n",
       "      <td>237.996</td>\n",
       "      <td>44.4</td>\n",
       "      <td>6.0</td>\n",
       "      <td>23.8</td>\n",
       "      <td>-21.510485</td>\n",
       "      <td>...</td>\n",
       "      <td>5</td>\n",
       "      <td>0.0</td>\n",
       "      <td>2.018000e+09</td>\n",
       "      <td>1.0</td>\n",
       "      <td>1.0</td>\n",
       "      <td>0.0</td>\n",
       "      <td>3.0</td>\n",
       "      <td>0.0</td>\n",
       "      <td>0.0</td>\n",
       "      <td>0.0</td>\n",
       "    </tr>\n",
       "    <tr>\n",
       "      <td>2142713</td>\n",
       "      <td>1.453223</td>\n",
       "      <td>1.466314</td>\n",
       "      <td>82.3</td>\n",
       "      <td>76.7</td>\n",
       "      <td>959.909</td>\n",
       "      <td>38.861</td>\n",
       "      <td>-8.2</td>\n",
       "      <td>10.8</td>\n",
       "      <td>23.9</td>\n",
       "      <td>4.974062</td>\n",
       "      <td>...</td>\n",
       "      <td>6</td>\n",
       "      <td>0.0</td>\n",
       "      <td>2.018000e+09</td>\n",
       "      <td>1.0</td>\n",
       "      <td>2.0</td>\n",
       "      <td>0.0</td>\n",
       "      <td>4.0</td>\n",
       "      <td>0.0</td>\n",
       "      <td>0.0</td>\n",
       "      <td>0.0</td>\n",
       "    </tr>\n",
       "    <tr>\n",
       "      <td>2142714</td>\n",
       "      <td>-0.427914</td>\n",
       "      <td>2.490041</td>\n",
       "      <td>95.4</td>\n",
       "      <td>87.1</td>\n",
       "      <td>2408.148</td>\n",
       "      <td>241.080</td>\n",
       "      <td>40.9</td>\n",
       "      <td>6.1</td>\n",
       "      <td>23.8</td>\n",
       "      <td>-20.172978</td>\n",
       "      <td>...</td>\n",
       "      <td>7</td>\n",
       "      <td>0.0</td>\n",
       "      <td>2.018000e+09</td>\n",
       "      <td>1.0</td>\n",
       "      <td>2.0</td>\n",
       "      <td>0.0</td>\n",
       "      <td>5.0</td>\n",
       "      <td>0.0</td>\n",
       "      <td>0.0</td>\n",
       "      <td>0.0</td>\n",
       "    </tr>\n",
       "  </tbody>\n",
       "</table>\n",
       "<p>5 rows × 40 columns</p>\n",
       "</div>"
      ],
      "text/plain": [
       "               px        pz  start_speed  end_speed  spin_rate  spin_dir  \\\n",
       "2142710  0.239615  1.848781         93.7       84.5   2632.270   233.718   \n",
       "2142711 -0.804047  0.925201         94.0       85.8   2561.181   236.246   \n",
       "2142712  0.598637  1.616677         94.7       86.5   2673.854   237.996   \n",
       "2142713  1.453223  1.466314         82.3       76.7    959.909    38.861   \n",
       "2142714 -0.427914  2.490041         95.4       87.1   2408.148   241.080   \n",
       "\n",
       "         break_angle  break_length  break_y         ax  ...  event_num  \\\n",
       "2142710         43.7           5.8     23.7 -19.911162  ...          3   \n",
       "2142711         42.7           6.1     23.8 -20.043108  ...          4   \n",
       "2142712         44.4           6.0     23.8 -21.510485  ...          5   \n",
       "2142713         -8.2          10.8     23.9   4.974062  ...          6   \n",
       "2142714         40.9           6.1     23.8 -20.172978  ...          7   \n",
       "\n",
       "         b_score         ab_id  b_count  s_count  outs  pitch_num  on_1b  \\\n",
       "2142710      0.0  2.018000e+09      0.0      0.0   0.0        1.0    0.0   \n",
       "2142711      0.0  2.018000e+09      0.0      1.0   0.0        2.0    0.0   \n",
       "2142712      0.0  2.018000e+09      1.0      1.0   0.0        3.0    0.0   \n",
       "2142713      0.0  2.018000e+09      1.0      2.0   0.0        4.0    0.0   \n",
       "2142714      0.0  2.018000e+09      1.0      2.0   0.0        5.0    0.0   \n",
       "\n",
       "         on_2b  on_3b  \n",
       "2142710    0.0    0.0  \n",
       "2142711    0.0    0.0  \n",
       "2142712    0.0    0.0  \n",
       "2142713    0.0    0.0  \n",
       "2142714    0.0    0.0  \n",
       "\n",
       "[5 rows x 40 columns]"
      ]
     },
     "execution_count": 30,
     "metadata": {},
     "output_type": "execute_result"
    }
   ],
   "source": [
    "pitches_2018.head()"
   ]
  },
  {
   "cell_type": "code",
   "execution_count": 31,
   "metadata": {
    "id": "ylmcnOiwfzbx",
    "outputId": "a881accc-2894-4e5a-e43f-8678a00e5e95"
   },
   "outputs": [
    {
     "data": {
      "text/plain": [
       "array(['SI', 'SL', 'FF', 'FC', 'CU', 'CH', 'FT', 'FS', 'KC', 'EP', 'FO',\n",
       "       'PO', 'SC', 'KN', 'AB'], dtype=object)"
      ]
     },
     "execution_count": 31,
     "metadata": {},
     "output_type": "execute_result"
    }
   ],
   "source": [
    "pitches_2018['pitch_type'].unique()"
   ]
  },
  {
   "cell_type": "code",
   "execution_count": 32,
   "metadata": {
    "id": "qkDyCHgYfzbx"
   },
   "outputs": [],
   "source": [
    "relevant_pitches = ['SI', 'SL', 'FF', 'FC', 'CU', 'CH', 'FT', 'FS', 'KC']\n",
    "pitch_dict = {'SI':'Sinker', \n",
    "              'SL':'Slider', \n",
    "              'FF':'4-Seam Fastball', \n",
    "              'FC':'Cutter', \n",
    "              'CU':'Curveball', \n",
    "              'CH':'Change-up', \n",
    "              'FT':'2-Seam Fastball' , \n",
    "              'FS':'Splitter', \n",
    "              'KC':'Knuckle Curve'}"
   ]
  },
  {
   "cell_type": "code",
   "execution_count": 33,
   "metadata": {
    "id": "VjBnhoCffzbx"
   },
   "outputs": [],
   "source": [
    "pitches_2018 = pitches_2018[pitches_2018['pitch_type'].isin(relevant_pitches)]\n",
    "pitches_2018['pitch_type'] = pitches_2018['pitch_type'].apply(lambda x: pitch_dict[x])"
   ]
  },
  {
   "cell_type": "code",
   "execution_count": 34,
   "metadata": {
    "id": "0eTCXSEtfzbx"
   },
   "outputs": [],
   "source": [
    "df = pitches_2018.merge(atbats_2018[['ab_id','pitcher_id']], on='ab_id').join(pitchers_list, on = 'pitcher_id')\n",
    "pitch_qualities = ['start_speed', 'spin_rate', 'break_angle', 'pfx_x', 'pfx_z', 'pitch_type','p_throws']\n",
    "df = df[pitch_qualities]\n",
    "df['pfx_x'] = df.apply(lambda x: -x['pfx_x'] if x['p_throws'] == 'L' else x['pfx_x'], axis=1)"
   ]
  },
  {
   "cell_type": "code",
   "execution_count": 35,
   "metadata": {
    "id": "fQ5MRRR-fzbx",
    "outputId": "a1b09091-4558-4dd8-e18d-2907ffc5b98e"
   },
   "outputs": [
    {
     "data": {
      "text/plain": [
       "R    0.742178\n",
       "L    0.257822\n",
       "Name: p_throws, dtype: float64"
      ]
     },
     "execution_count": 35,
     "metadata": {},
     "output_type": "execute_result"
    }
   ],
   "source": [
    "#higher prevalence of left handed pitchers in baseball than in the general population (25% vs 10%)\n",
    "pitchers_list['p_throws'].value_counts()/len(pitchers_list)"
   ]
  },
  {
   "cell_type": "code",
   "execution_count": 36,
   "metadata": {
    "id": "BpcPVDvjfzbx",
    "outputId": "f24e053d-132e-42a5-a0ab-05cc3128ac1a"
   },
   "outputs": [
    {
     "data": {
      "text/html": [
       "<div>\n",
       "<style scoped>\n",
       "    .dataframe tbody tr th:only-of-type {\n",
       "        vertical-align: middle;\n",
       "    }\n",
       "\n",
       "    .dataframe tbody tr th {\n",
       "        vertical-align: top;\n",
       "    }\n",
       "\n",
       "    .dataframe thead th {\n",
       "        text-align: right;\n",
       "    }\n",
       "</style>\n",
       "<table border=\"1\" class=\"dataframe\">\n",
       "  <thead>\n",
       "    <tr style=\"text-align: right;\">\n",
       "      <th></th>\n",
       "      <th></th>\n",
       "      <th>start_speed</th>\n",
       "      <th>spin_rate</th>\n",
       "      <th>break_angle</th>\n",
       "      <th>pfx_x</th>\n",
       "      <th>pfx_z</th>\n",
       "    </tr>\n",
       "    <tr>\n",
       "      <th>pitch_type</th>\n",
       "      <th>p_throws</th>\n",
       "      <th></th>\n",
       "      <th></th>\n",
       "      <th></th>\n",
       "      <th></th>\n",
       "      <th></th>\n",
       "    </tr>\n",
       "  </thead>\n",
       "  <tbody>\n",
       "    <tr>\n",
       "      <td rowspan=\"2\" valign=\"top\">2-Seam Fastball</td>\n",
       "      <td>L</td>\n",
       "      <td>91.016580</td>\n",
       "      <td>2053.397747</td>\n",
       "      <td>-31.032512</td>\n",
       "      <td>-8.443629</td>\n",
       "      <td>5.855799</td>\n",
       "    </tr>\n",
       "    <tr>\n",
       "      <td>R</td>\n",
       "      <td>93.039273</td>\n",
       "      <td>2171.105692</td>\n",
       "      <td>34.401718</td>\n",
       "      <td>-8.724895</td>\n",
       "      <td>6.173368</td>\n",
       "    </tr>\n",
       "    <tr>\n",
       "      <td rowspan=\"2\" valign=\"top\">4-Seam Fastball</td>\n",
       "      <td>L</td>\n",
       "      <td>92.243591</td>\n",
       "      <td>2100.911444</td>\n",
       "      <td>-24.380482</td>\n",
       "      <td>-5.055384</td>\n",
       "      <td>9.014234</td>\n",
       "    </tr>\n",
       "    <tr>\n",
       "      <td>R</td>\n",
       "      <td>93.492785</td>\n",
       "      <td>2103.426330</td>\n",
       "      <td>24.265219</td>\n",
       "      <td>-4.707828</td>\n",
       "      <td>9.098860</td>\n",
       "    </tr>\n",
       "    <tr>\n",
       "      <td rowspan=\"2\" valign=\"top\">Change-up</td>\n",
       "      <td>L</td>\n",
       "      <td>83.263122</td>\n",
       "      <td>1776.668811</td>\n",
       "      <td>-23.732636</td>\n",
       "      <td>-8.476321</td>\n",
       "      <td>4.488098</td>\n",
       "    </tr>\n",
       "    <tr>\n",
       "      <td>R</td>\n",
       "      <td>84.713838</td>\n",
       "      <td>1700.143655</td>\n",
       "      <td>22.879304</td>\n",
       "      <td>-7.957612</td>\n",
       "      <td>3.980337</td>\n",
       "    </tr>\n",
       "    <tr>\n",
       "      <td rowspan=\"2\" valign=\"top\">Curveball</td>\n",
       "      <td>L</td>\n",
       "      <td>76.723534</td>\n",
       "      <td>1192.275530</td>\n",
       "      <td>8.535280</td>\n",
       "      <td>4.365374</td>\n",
       "      <td>-5.218231</td>\n",
       "    </tr>\n",
       "    <tr>\n",
       "      <td>R</td>\n",
       "      <td>79.035691</td>\n",
       "      <td>1268.085825</td>\n",
       "      <td>-9.755467</td>\n",
       "      <td>4.750553</td>\n",
       "      <td>-4.958307</td>\n",
       "    </tr>\n",
       "    <tr>\n",
       "      <td rowspan=\"2\" valign=\"top\">Cutter</td>\n",
       "      <td>L</td>\n",
       "      <td>87.368854</td>\n",
       "      <td>973.740864</td>\n",
       "      <td>3.047743</td>\n",
       "      <td>0.233648</td>\n",
       "      <td>4.766796</td>\n",
       "    </tr>\n",
       "    <tr>\n",
       "      <td>R</td>\n",
       "      <td>89.339412</td>\n",
       "      <td>1052.609924</td>\n",
       "      <td>-5.476308</td>\n",
       "      <td>0.842028</td>\n",
       "      <td>4.977691</td>\n",
       "    </tr>\n",
       "    <tr>\n",
       "      <td rowspan=\"2\" valign=\"top\">Knuckle Curve</td>\n",
       "      <td>L</td>\n",
       "      <td>79.618885</td>\n",
       "      <td>862.211572</td>\n",
       "      <td>4.693834</td>\n",
       "      <td>1.984771</td>\n",
       "      <td>-4.154981</td>\n",
       "    </tr>\n",
       "    <tr>\n",
       "      <td>R</td>\n",
       "      <td>81.286732</td>\n",
       "      <td>1309.628808</td>\n",
       "      <td>-8.510987</td>\n",
       "      <td>3.945319</td>\n",
       "      <td>-6.051857</td>\n",
       "    </tr>\n",
       "    <tr>\n",
       "      <td rowspan=\"2\" valign=\"top\">Sinker</td>\n",
       "      <td>L</td>\n",
       "      <td>91.329291</td>\n",
       "      <td>2131.582999</td>\n",
       "      <td>-31.851260</td>\n",
       "      <td>-8.779017</td>\n",
       "      <td>5.542114</td>\n",
       "    </tr>\n",
       "    <tr>\n",
       "      <td>R</td>\n",
       "      <td>91.745366</td>\n",
       "      <td>2070.284181</td>\n",
       "      <td>31.182606</td>\n",
       "      <td>-9.110671</td>\n",
       "      <td>4.239377</td>\n",
       "    </tr>\n",
       "    <tr>\n",
       "      <td rowspan=\"2\" valign=\"top\">Slider</td>\n",
       "      <td>L</td>\n",
       "      <td>83.117205</td>\n",
       "      <td>737.104903</td>\n",
       "      <td>7.544137</td>\n",
       "      <td>2.416350</td>\n",
       "      <td>1.047404</td>\n",
       "    </tr>\n",
       "    <tr>\n",
       "      <td>R</td>\n",
       "      <td>84.809335</td>\n",
       "      <td>727.104510</td>\n",
       "      <td>-7.845674</td>\n",
       "      <td>2.423010</td>\n",
       "      <td>1.228757</td>\n",
       "    </tr>\n",
       "    <tr>\n",
       "      <td rowspan=\"2\" valign=\"top\">Splitter</td>\n",
       "      <td>L</td>\n",
       "      <td>83.863003</td>\n",
       "      <td>1505.296560</td>\n",
       "      <td>-19.976426</td>\n",
       "      <td>-7.347289</td>\n",
       "      <td>2.950074</td>\n",
       "    </tr>\n",
       "    <tr>\n",
       "      <td>R</td>\n",
       "      <td>85.280235</td>\n",
       "      <td>1365.661832</td>\n",
       "      <td>17.949133</td>\n",
       "      <td>-6.347442</td>\n",
       "      <td>2.857380</td>\n",
       "    </tr>\n",
       "  </tbody>\n",
       "</table>\n",
       "</div>"
      ],
      "text/plain": [
       "                          start_speed    spin_rate  break_angle     pfx_x  \\\n",
       "pitch_type      p_throws                                                    \n",
       "2-Seam Fastball L           91.016580  2053.397747   -31.032512 -8.443629   \n",
       "                R           93.039273  2171.105692    34.401718 -8.724895   \n",
       "4-Seam Fastball L           92.243591  2100.911444   -24.380482 -5.055384   \n",
       "                R           93.492785  2103.426330    24.265219 -4.707828   \n",
       "Change-up       L           83.263122  1776.668811   -23.732636 -8.476321   \n",
       "                R           84.713838  1700.143655    22.879304 -7.957612   \n",
       "Curveball       L           76.723534  1192.275530     8.535280  4.365374   \n",
       "                R           79.035691  1268.085825    -9.755467  4.750553   \n",
       "Cutter          L           87.368854   973.740864     3.047743  0.233648   \n",
       "                R           89.339412  1052.609924    -5.476308  0.842028   \n",
       "Knuckle Curve   L           79.618885   862.211572     4.693834  1.984771   \n",
       "                R           81.286732  1309.628808    -8.510987  3.945319   \n",
       "Sinker          L           91.329291  2131.582999   -31.851260 -8.779017   \n",
       "                R           91.745366  2070.284181    31.182606 -9.110671   \n",
       "Slider          L           83.117205   737.104903     7.544137  2.416350   \n",
       "                R           84.809335   727.104510    -7.845674  2.423010   \n",
       "Splitter        L           83.863003  1505.296560   -19.976426 -7.347289   \n",
       "                R           85.280235  1365.661832    17.949133 -6.347442   \n",
       "\n",
       "                             pfx_z  \n",
       "pitch_type      p_throws            \n",
       "2-Seam Fastball L         5.855799  \n",
       "                R         6.173368  \n",
       "4-Seam Fastball L         9.014234  \n",
       "                R         9.098860  \n",
       "Change-up       L         4.488098  \n",
       "                R         3.980337  \n",
       "Curveball       L        -5.218231  \n",
       "                R        -4.958307  \n",
       "Cutter          L         4.766796  \n",
       "                R         4.977691  \n",
       "Knuckle Curve   L        -4.154981  \n",
       "                R        -6.051857  \n",
       "Sinker          L         5.542114  \n",
       "                R         4.239377  \n",
       "Slider          L         1.047404  \n",
       "                R         1.228757  \n",
       "Splitter        L         2.950074  \n",
       "                R         2.857380  "
      ]
     },
     "execution_count": 36,
     "metadata": {},
     "output_type": "execute_result"
    }
   ],
   "source": [
    "df.groupby(['pitch_type','p_throws']).mean()"
   ]
  },
  {
   "cell_type": "code",
   "execution_count": 37,
   "metadata": {
    "id": "BQfxFERjfzbx",
    "outputId": "be198151-c5c1-4273-d09a-628fe82fccaa",
    "scrolled": true
   },
   "outputs": [
    {
     "data": {
      "text/html": [
       "<div>\n",
       "<style scoped>\n",
       "    .dataframe tbody tr th:only-of-type {\n",
       "        vertical-align: middle;\n",
       "    }\n",
       "\n",
       "    .dataframe tbody tr th {\n",
       "        vertical-align: top;\n",
       "    }\n",
       "\n",
       "    .dataframe thead th {\n",
       "        text-align: right;\n",
       "    }\n",
       "</style>\n",
       "<table border=\"1\" class=\"dataframe\">\n",
       "  <thead>\n",
       "    <tr style=\"text-align: right;\">\n",
       "      <th></th>\n",
       "      <th></th>\n",
       "      <th>start_speed</th>\n",
       "      <th>spin_rate</th>\n",
       "      <th>break_angle</th>\n",
       "      <th>pfx_x</th>\n",
       "      <th>pfx_z</th>\n",
       "    </tr>\n",
       "    <tr>\n",
       "      <th>pitch_type</th>\n",
       "      <th>p_throws</th>\n",
       "      <th></th>\n",
       "      <th></th>\n",
       "      <th></th>\n",
       "      <th></th>\n",
       "      <th></th>\n",
       "    </tr>\n",
       "  </thead>\n",
       "  <tbody>\n",
       "    <tr>\n",
       "      <td>2-Seam Fastball</td>\n",
       "      <td>R</td>\n",
       "      <td>2.022693</td>\n",
       "      <td>117.707944</td>\n",
       "      <td>65.434230</td>\n",
       "      <td>-0.281265</td>\n",
       "      <td>0.317570</td>\n",
       "    </tr>\n",
       "    <tr>\n",
       "      <td>4-Seam Fastball</td>\n",
       "      <td>R</td>\n",
       "      <td>1.249195</td>\n",
       "      <td>2.514886</td>\n",
       "      <td>48.645701</td>\n",
       "      <td>0.347556</td>\n",
       "      <td>0.084626</td>\n",
       "    </tr>\n",
       "    <tr>\n",
       "      <td>Change-up</td>\n",
       "      <td>R</td>\n",
       "      <td>1.450717</td>\n",
       "      <td>-76.525156</td>\n",
       "      <td>46.611940</td>\n",
       "      <td>0.518708</td>\n",
       "      <td>-0.507762</td>\n",
       "    </tr>\n",
       "    <tr>\n",
       "      <td>Curveball</td>\n",
       "      <td>R</td>\n",
       "      <td>2.312157</td>\n",
       "      <td>75.810295</td>\n",
       "      <td>-18.290747</td>\n",
       "      <td>0.385179</td>\n",
       "      <td>0.259924</td>\n",
       "    </tr>\n",
       "    <tr>\n",
       "      <td>Cutter</td>\n",
       "      <td>R</td>\n",
       "      <td>1.970558</td>\n",
       "      <td>78.869061</td>\n",
       "      <td>-8.524051</td>\n",
       "      <td>0.608380</td>\n",
       "      <td>0.210895</td>\n",
       "    </tr>\n",
       "    <tr>\n",
       "      <td>Knuckle Curve</td>\n",
       "      <td>R</td>\n",
       "      <td>1.667847</td>\n",
       "      <td>447.417236</td>\n",
       "      <td>-13.204821</td>\n",
       "      <td>1.960548</td>\n",
       "      <td>-1.896876</td>\n",
       "    </tr>\n",
       "    <tr>\n",
       "      <td>Sinker</td>\n",
       "      <td>R</td>\n",
       "      <td>0.416074</td>\n",
       "      <td>-61.298817</td>\n",
       "      <td>63.033866</td>\n",
       "      <td>-0.331654</td>\n",
       "      <td>-1.302737</td>\n",
       "    </tr>\n",
       "    <tr>\n",
       "      <td>Slider</td>\n",
       "      <td>R</td>\n",
       "      <td>1.692129</td>\n",
       "      <td>-10.000393</td>\n",
       "      <td>-15.389811</td>\n",
       "      <td>0.006660</td>\n",
       "      <td>0.181353</td>\n",
       "    </tr>\n",
       "    <tr>\n",
       "      <td>Splitter</td>\n",
       "      <td>R</td>\n",
       "      <td>1.417232</td>\n",
       "      <td>-139.634729</td>\n",
       "      <td>37.925560</td>\n",
       "      <td>0.999848</td>\n",
       "      <td>-0.092694</td>\n",
       "    </tr>\n",
       "  </tbody>\n",
       "</table>\n",
       "</div>"
      ],
      "text/plain": [
       "                          start_speed   spin_rate  break_angle     pfx_x  \\\n",
       "pitch_type      p_throws                                                   \n",
       "2-Seam Fastball R            2.022693  117.707944    65.434230 -0.281265   \n",
       "4-Seam Fastball R            1.249195    2.514886    48.645701  0.347556   \n",
       "Change-up       R            1.450717  -76.525156    46.611940  0.518708   \n",
       "Curveball       R            2.312157   75.810295   -18.290747  0.385179   \n",
       "Cutter          R            1.970558   78.869061    -8.524051  0.608380   \n",
       "Knuckle Curve   R            1.667847  447.417236   -13.204821  1.960548   \n",
       "Sinker          R            0.416074  -61.298817    63.033866 -0.331654   \n",
       "Slider          R            1.692129  -10.000393   -15.389811  0.006660   \n",
       "Splitter        R            1.417232 -139.634729    37.925560  0.999848   \n",
       "\n",
       "                             pfx_z  \n",
       "pitch_type      p_throws            \n",
       "2-Seam Fastball R         0.317570  \n",
       "4-Seam Fastball R         0.084626  \n",
       "Change-up       R        -0.507762  \n",
       "Curveball       R         0.259924  \n",
       "Cutter          R         0.210895  \n",
       "Knuckle Curve   R        -1.896876  \n",
       "Sinker          R        -1.302737  \n",
       "Slider          R         0.181353  \n",
       "Splitter        R        -0.092694  "
      ]
     },
     "execution_count": 37,
     "metadata": {},
     "output_type": "execute_result"
    }
   ],
   "source": [
    "#here we calculate the difference in pitch qualities between RHP and LHP (i.e. +ve value indicates RHP throws harder, etc)\n",
    "df.groupby(['pitch_type','p_throws']).mean().groupby('pitch_type').diff(1).groupby('pitch_type').tail(n=1)"
   ]
  },
  {
   "cell_type": "markdown",
   "metadata": {
    "id": "tkCAYrYXfzbx"
   },
   "source": [
    "### T-Testing the Difference "
   ]
  },
  {
   "cell_type": "markdown",
   "metadata": {
    "id": "sgDztUnUfzbx"
   },
   "source": [
    "### Is the Platoon Advantage True? Do LHPs perform better against LHBs than RHBs?"
   ]
  },
  {
   "cell_type": "markdown",
   "metadata": {
    "id": "ChPLBpX6fzbx"
   },
   "source": [
    "Regression analysis on the basis of at-bats; outcomes measured in terms of hits (1 or 0) or multi-class classification (1B,2B,3B,HR) or expected bases (0-4)"
   ]
  },
  {
   "cell_type": "markdown",
   "metadata": {
    "id": "EsUA8JbKfzbx"
   },
   "source": [
    "## Plotting strikes and balls"
   ]
  },
  {
   "cell_type": "markdown",
   "metadata": {
    "id": "WiTQkzbpfzbx"
   },
   "source": [
    "px: the left/right distance, in feet, of the pitch from the middle of the plate as it crossed home plate. The PITCHf/x coordinate system is oriented to the catcher’s/umpire’s perspective, with distances to the right being positive and to the left being negative.\n",
    "\n",
    "pz: the height of the pitch in feet as it crossed the front of home plate.\n",
    "\n",
    "type: a one-letter abbreviation for the result of the pitch: B, ball; S, strike (including fouls); X, in play."
   ]
  },
  {
   "cell_type": "code",
   "execution_count": 38,
   "metadata": {
    "id": "8gYs_yaofzbx"
   },
   "outputs": [
    {
     "data": {
      "text/html": [
       "<div>\n",
       "<style scoped>\n",
       "    .dataframe tbody tr th:only-of-type {\n",
       "        vertical-align: middle;\n",
       "    }\n",
       "\n",
       "    .dataframe tbody tr th {\n",
       "        vertical-align: top;\n",
       "    }\n",
       "\n",
       "    .dataframe thead th {\n",
       "        text-align: right;\n",
       "    }\n",
       "</style>\n",
       "<table border=\"1\" class=\"dataframe\">\n",
       "  <thead>\n",
       "    <tr style=\"text-align: right;\">\n",
       "      <th></th>\n",
       "      <th>start_speed</th>\n",
       "      <th>spin_rate</th>\n",
       "      <th>break_angle</th>\n",
       "      <th>pfx_x</th>\n",
       "      <th>pfx_z</th>\n",
       "      <th>pitch_type</th>\n",
       "      <th>p_throws</th>\n",
       "    </tr>\n",
       "  </thead>\n",
       "  <tbody>\n",
       "    <tr>\n",
       "      <td>0</td>\n",
       "      <td>93.7</td>\n",
       "      <td>2632.270</td>\n",
       "      <td>43.7</td>\n",
       "      <td>-10.721801</td>\n",
       "      <td>7.870604</td>\n",
       "      <td>Sinker</td>\n",
       "      <td>R</td>\n",
       "    </tr>\n",
       "    <tr>\n",
       "      <td>1</td>\n",
       "      <td>94.0</td>\n",
       "      <td>2561.181</td>\n",
       "      <td>42.7</td>\n",
       "      <td>-10.647298</td>\n",
       "      <td>7.115135</td>\n",
       "      <td>Sinker</td>\n",
       "      <td>R</td>\n",
       "    </tr>\n",
       "    <tr>\n",
       "      <td>2</td>\n",
       "      <td>94.7</td>\n",
       "      <td>2673.854</td>\n",
       "      <td>44.4</td>\n",
       "      <td>-11.206094</td>\n",
       "      <td>7.003230</td>\n",
       "      <td>Sinker</td>\n",
       "      <td>R</td>\n",
       "    </tr>\n",
       "    <tr>\n",
       "      <td>3</td>\n",
       "      <td>82.3</td>\n",
       "      <td>959.909</td>\n",
       "      <td>-8.2</td>\n",
       "      <td>3.397188</td>\n",
       "      <td>-4.215796</td>\n",
       "      <td>Slider</td>\n",
       "      <td>R</td>\n",
       "    </tr>\n",
       "    <tr>\n",
       "      <td>4</td>\n",
       "      <td>95.4</td>\n",
       "      <td>2408.148</td>\n",
       "      <td>40.9</td>\n",
       "      <td>-10.308374</td>\n",
       "      <td>5.695114</td>\n",
       "      <td>Sinker</td>\n",
       "      <td>R</td>\n",
       "    </tr>\n",
       "  </tbody>\n",
       "</table>\n",
       "</div>"
      ],
      "text/plain": [
       "   start_speed  spin_rate  break_angle      pfx_x     pfx_z pitch_type  \\\n",
       "0         93.7   2632.270         43.7 -10.721801  7.870604     Sinker   \n",
       "1         94.0   2561.181         42.7 -10.647298  7.115135     Sinker   \n",
       "2         94.7   2673.854         44.4 -11.206094  7.003230     Sinker   \n",
       "3         82.3    959.909         -8.2   3.397188 -4.215796     Slider   \n",
       "4         95.4   2408.148         40.9 -10.308374  5.695114     Sinker   \n",
       "\n",
       "  p_throws  \n",
       "0        R  \n",
       "1        R  \n",
       "2        R  \n",
       "3        R  \n",
       "4        R  "
      ]
     },
     "execution_count": 38,
     "metadata": {},
     "output_type": "execute_result"
    }
   ],
   "source": [
    "df.head()"
   ]
  },
  {
   "cell_type": "code",
   "execution_count": 39,
   "metadata": {},
   "outputs": [
    {
     "data": {
      "text/plain": [
       "Index(['Unnamed: 0', 'ab_id', 'batter_id', 'g_id', 'inning', 'o', 'p_score',\n",
       "       'p_throws', 'pitcher_id', 'stand', 'top', 'year', '_1B', '_2B', '_3B',\n",
       "       '_BB', '_BGO', '_BI', '_BLO', '_BPO', '_CI', '_DP', '_FC', '_FCO',\n",
       "       '_FO', '_FORCE', '_GIDP', '_GO', '_HBP', '_HR', '_IBB', '_K', '_KDP',\n",
       "       '_LO', '_PO', '_RO', '_ROE', '_SAC', '_SBDP', '_SF', '_SFDP', '_TP',\n",
       "       'event', '_H', '_TB', '_AB', '_PA', '_outs', 'IP'],\n",
       "      dtype='object')"
      ]
     },
     "execution_count": 39,
     "metadata": {},
     "output_type": "execute_result"
    }
   ],
   "source": [
    "atbats_2018.columns"
   ]
  },
  {
   "cell_type": "code",
   "execution_count": 40,
   "metadata": {},
   "outputs": [],
   "source": [
    "from statsmodels.formula.api import ols\n",
    "from statsmodels.formula.api import logit"
   ]
  },
  {
   "cell_type": "markdown",
   "metadata": {},
   "source": [
    "### Merging Atbats and Pitches databases to get the relevent variables in one dataframe"
   ]
  },
  {
   "cell_type": "code",
   "execution_count": 41,
   "metadata": {},
   "outputs": [],
   "source": [
    "Data = pd.merge(atbats_2018,pitches_2018, on = 'ab_id', how = 'left')"
   ]
  },
  {
   "cell_type": "code",
   "execution_count": 42,
   "metadata": {},
   "outputs": [],
   "source": [
    "Data.dropna(inplace = True)"
   ]
  },
  {
   "cell_type": "markdown",
   "metadata": {},
   "source": [
    "### Using PCA to test if the dimensions in of the categorical variables can be reduced"
   ]
  },
  {
   "cell_type": "code",
   "execution_count": 43,
   "metadata": {},
   "outputs": [],
   "source": [
    "Data_num = Data.dtypes[Data.dtypes != 'object']\n",
    "Data_num = Data[Data_num.index]"
   ]
  },
  {
   "cell_type": "code",
   "execution_count": 44,
   "metadata": {},
   "outputs": [
    {
     "data": {
      "text/html": [
       "<div>\n",
       "<style scoped>\n",
       "    .dataframe tbody tr th:only-of-type {\n",
       "        vertical-align: middle;\n",
       "    }\n",
       "\n",
       "    .dataframe tbody tr th {\n",
       "        vertical-align: top;\n",
       "    }\n",
       "\n",
       "    .dataframe thead th {\n",
       "        text-align: right;\n",
       "    }\n",
       "</style>\n",
       "<table border=\"1\" class=\"dataframe\">\n",
       "  <thead>\n",
       "    <tr style=\"text-align: right;\">\n",
       "      <th></th>\n",
       "      <th>Unnamed: 0</th>\n",
       "      <th>ab_id</th>\n",
       "      <th>batter_id</th>\n",
       "      <th>g_id</th>\n",
       "      <th>inning</th>\n",
       "      <th>o</th>\n",
       "      <th>p_score</th>\n",
       "      <th>pitcher_id</th>\n",
       "      <th>top</th>\n",
       "      <th>year</th>\n",
       "      <th>...</th>\n",
       "      <th>zone</th>\n",
       "      <th>event_num</th>\n",
       "      <th>b_score</th>\n",
       "      <th>b_count</th>\n",
       "      <th>s_count</th>\n",
       "      <th>outs</th>\n",
       "      <th>pitch_num</th>\n",
       "      <th>on_1b</th>\n",
       "      <th>on_2b</th>\n",
       "      <th>on_3b</th>\n",
       "    </tr>\n",
       "  </thead>\n",
       "  <tbody>\n",
       "    <tr>\n",
       "      <td>0</td>\n",
       "      <td>554815</td>\n",
       "      <td>2018000001</td>\n",
       "      <td>446359</td>\n",
       "      <td>201800001</td>\n",
       "      <td>1</td>\n",
       "      <td>1</td>\n",
       "      <td>0</td>\n",
       "      <td>608665</td>\n",
       "      <td>True</td>\n",
       "      <td>2018</td>\n",
       "      <td>...</td>\n",
       "      <td>9.0</td>\n",
       "      <td>3.0</td>\n",
       "      <td>0.0</td>\n",
       "      <td>0.0</td>\n",
       "      <td>0.0</td>\n",
       "      <td>0.0</td>\n",
       "      <td>1.0</td>\n",
       "      <td>0.0</td>\n",
       "      <td>0.0</td>\n",
       "      <td>0.0</td>\n",
       "    </tr>\n",
       "    <tr>\n",
       "      <td>1</td>\n",
       "      <td>554815</td>\n",
       "      <td>2018000001</td>\n",
       "      <td>446359</td>\n",
       "      <td>201800001</td>\n",
       "      <td>1</td>\n",
       "      <td>1</td>\n",
       "      <td>0</td>\n",
       "      <td>608665</td>\n",
       "      <td>True</td>\n",
       "      <td>2018</td>\n",
       "      <td>...</td>\n",
       "      <td>13.0</td>\n",
       "      <td>4.0</td>\n",
       "      <td>0.0</td>\n",
       "      <td>0.0</td>\n",
       "      <td>1.0</td>\n",
       "      <td>0.0</td>\n",
       "      <td>2.0</td>\n",
       "      <td>0.0</td>\n",
       "      <td>0.0</td>\n",
       "      <td>0.0</td>\n",
       "    </tr>\n",
       "    <tr>\n",
       "      <td>2</td>\n",
       "      <td>554815</td>\n",
       "      <td>2018000001</td>\n",
       "      <td>446359</td>\n",
       "      <td>201800001</td>\n",
       "      <td>1</td>\n",
       "      <td>1</td>\n",
       "      <td>0</td>\n",
       "      <td>608665</td>\n",
       "      <td>True</td>\n",
       "      <td>2018</td>\n",
       "      <td>...</td>\n",
       "      <td>9.0</td>\n",
       "      <td>5.0</td>\n",
       "      <td>0.0</td>\n",
       "      <td>1.0</td>\n",
       "      <td>1.0</td>\n",
       "      <td>0.0</td>\n",
       "      <td>3.0</td>\n",
       "      <td>0.0</td>\n",
       "      <td>0.0</td>\n",
       "      <td>0.0</td>\n",
       "    </tr>\n",
       "    <tr>\n",
       "      <td>3</td>\n",
       "      <td>554815</td>\n",
       "      <td>2018000001</td>\n",
       "      <td>446359</td>\n",
       "      <td>201800001</td>\n",
       "      <td>1</td>\n",
       "      <td>1</td>\n",
       "      <td>0</td>\n",
       "      <td>608665</td>\n",
       "      <td>True</td>\n",
       "      <td>2018</td>\n",
       "      <td>...</td>\n",
       "      <td>14.0</td>\n",
       "      <td>6.0</td>\n",
       "      <td>0.0</td>\n",
       "      <td>1.0</td>\n",
       "      <td>2.0</td>\n",
       "      <td>0.0</td>\n",
       "      <td>4.0</td>\n",
       "      <td>0.0</td>\n",
       "      <td>0.0</td>\n",
       "      <td>0.0</td>\n",
       "    </tr>\n",
       "    <tr>\n",
       "      <td>4</td>\n",
       "      <td>554815</td>\n",
       "      <td>2018000001</td>\n",
       "      <td>446359</td>\n",
       "      <td>201800001</td>\n",
       "      <td>1</td>\n",
       "      <td>1</td>\n",
       "      <td>0</td>\n",
       "      <td>608665</td>\n",
       "      <td>True</td>\n",
       "      <td>2018</td>\n",
       "      <td>...</td>\n",
       "      <td>4.0</td>\n",
       "      <td>7.0</td>\n",
       "      <td>0.0</td>\n",
       "      <td>1.0</td>\n",
       "      <td>2.0</td>\n",
       "      <td>0.0</td>\n",
       "      <td>5.0</td>\n",
       "      <td>0.0</td>\n",
       "      <td>0.0</td>\n",
       "      <td>0.0</td>\n",
       "    </tr>\n",
       "    <tr>\n",
       "      <td>...</td>\n",
       "      <td>...</td>\n",
       "      <td>...</td>\n",
       "      <td>...</td>\n",
       "      <td>...</td>\n",
       "      <td>...</td>\n",
       "      <td>...</td>\n",
       "      <td>...</td>\n",
       "      <td>...</td>\n",
       "      <td>...</td>\n",
       "      <td>...</td>\n",
       "      <td>...</td>\n",
       "      <td>...</td>\n",
       "      <td>...</td>\n",
       "      <td>...</td>\n",
       "      <td>...</td>\n",
       "      <td>...</td>\n",
       "      <td>...</td>\n",
       "      <td>...</td>\n",
       "      <td>...</td>\n",
       "      <td>...</td>\n",
       "      <td>...</td>\n",
       "    </tr>\n",
       "    <tr>\n",
       "      <td>718599</td>\n",
       "      <td>740387</td>\n",
       "      <td>2018185573</td>\n",
       "      <td>595879</td>\n",
       "      <td>201802431</td>\n",
       "      <td>9</td>\n",
       "      <td>2</td>\n",
       "      <td>3</td>\n",
       "      <td>623352</td>\n",
       "      <td>False</td>\n",
       "      <td>2018</td>\n",
       "      <td>...</td>\n",
       "      <td>8.0</td>\n",
       "      <td>568.0</td>\n",
       "      <td>1.0</td>\n",
       "      <td>3.0</td>\n",
       "      <td>2.0</td>\n",
       "      <td>2.0</td>\n",
       "      <td>9.0</td>\n",
       "      <td>0.0</td>\n",
       "      <td>0.0</td>\n",
       "      <td>0.0</td>\n",
       "    </tr>\n",
       "    <tr>\n",
       "      <td>718600</td>\n",
       "      <td>740388</td>\n",
       "      <td>2018185574</td>\n",
       "      <td>519203</td>\n",
       "      <td>201802431</td>\n",
       "      <td>9</td>\n",
       "      <td>3</td>\n",
       "      <td>3</td>\n",
       "      <td>623352</td>\n",
       "      <td>False</td>\n",
       "      <td>2018</td>\n",
       "      <td>...</td>\n",
       "      <td>13.0</td>\n",
       "      <td>572.0</td>\n",
       "      <td>1.0</td>\n",
       "      <td>0.0</td>\n",
       "      <td>0.0</td>\n",
       "      <td>2.0</td>\n",
       "      <td>1.0</td>\n",
       "      <td>1.0</td>\n",
       "      <td>0.0</td>\n",
       "      <td>0.0</td>\n",
       "    </tr>\n",
       "    <tr>\n",
       "      <td>718601</td>\n",
       "      <td>740388</td>\n",
       "      <td>2018185574</td>\n",
       "      <td>519203</td>\n",
       "      <td>201802431</td>\n",
       "      <td>9</td>\n",
       "      <td>3</td>\n",
       "      <td>3</td>\n",
       "      <td>623352</td>\n",
       "      <td>False</td>\n",
       "      <td>2018</td>\n",
       "      <td>...</td>\n",
       "      <td>4.0</td>\n",
       "      <td>577.0</td>\n",
       "      <td>1.0</td>\n",
       "      <td>1.0</td>\n",
       "      <td>0.0</td>\n",
       "      <td>2.0</td>\n",
       "      <td>2.0</td>\n",
       "      <td>0.0</td>\n",
       "      <td>1.0</td>\n",
       "      <td>0.0</td>\n",
       "    </tr>\n",
       "    <tr>\n",
       "      <td>718602</td>\n",
       "      <td>740388</td>\n",
       "      <td>2018185574</td>\n",
       "      <td>519203</td>\n",
       "      <td>201802431</td>\n",
       "      <td>9</td>\n",
       "      <td>3</td>\n",
       "      <td>3</td>\n",
       "      <td>623352</td>\n",
       "      <td>False</td>\n",
       "      <td>2018</td>\n",
       "      <td>...</td>\n",
       "      <td>13.0</td>\n",
       "      <td>578.0</td>\n",
       "      <td>1.0</td>\n",
       "      <td>1.0</td>\n",
       "      <td>1.0</td>\n",
       "      <td>2.0</td>\n",
       "      <td>3.0</td>\n",
       "      <td>0.0</td>\n",
       "      <td>1.0</td>\n",
       "      <td>0.0</td>\n",
       "    </tr>\n",
       "    <tr>\n",
       "      <td>718603</td>\n",
       "      <td>740388</td>\n",
       "      <td>2018185574</td>\n",
       "      <td>519203</td>\n",
       "      <td>201802431</td>\n",
       "      <td>9</td>\n",
       "      <td>3</td>\n",
       "      <td>3</td>\n",
       "      <td>623352</td>\n",
       "      <td>False</td>\n",
       "      <td>2018</td>\n",
       "      <td>...</td>\n",
       "      <td>6.0</td>\n",
       "      <td>579.0</td>\n",
       "      <td>1.0</td>\n",
       "      <td>1.0</td>\n",
       "      <td>2.0</td>\n",
       "      <td>2.0</td>\n",
       "      <td>4.0</td>\n",
       "      <td>0.0</td>\n",
       "      <td>1.0</td>\n",
       "      <td>0.0</td>\n",
       "    </tr>\n",
       "  </tbody>\n",
       "</table>\n",
       "<p>717188 rows × 82 columns</p>\n",
       "</div>"
      ],
      "text/plain": [
       "        Unnamed: 0       ab_id  batter_id       g_id  inning  o  p_score  \\\n",
       "0           554815  2018000001     446359  201800001       1  1        0   \n",
       "1           554815  2018000001     446359  201800001       1  1        0   \n",
       "2           554815  2018000001     446359  201800001       1  1        0   \n",
       "3           554815  2018000001     446359  201800001       1  1        0   \n",
       "4           554815  2018000001     446359  201800001       1  1        0   \n",
       "...            ...         ...        ...        ...     ... ..      ...   \n",
       "718599      740387  2018185573     595879  201802431       9  2        3   \n",
       "718600      740388  2018185574     519203  201802431       9  3        3   \n",
       "718601      740388  2018185574     519203  201802431       9  3        3   \n",
       "718602      740388  2018185574     519203  201802431       9  3        3   \n",
       "718603      740388  2018185574     519203  201802431       9  3        3   \n",
       "\n",
       "        pitcher_id    top  year  ...  zone  event_num  b_score  b_count  \\\n",
       "0           608665   True  2018  ...   9.0        3.0      0.0      0.0   \n",
       "1           608665   True  2018  ...  13.0        4.0      0.0      0.0   \n",
       "2           608665   True  2018  ...   9.0        5.0      0.0      1.0   \n",
       "3           608665   True  2018  ...  14.0        6.0      0.0      1.0   \n",
       "4           608665   True  2018  ...   4.0        7.0      0.0      1.0   \n",
       "...            ...    ...   ...  ...   ...        ...      ...      ...   \n",
       "718599      623352  False  2018  ...   8.0      568.0      1.0      3.0   \n",
       "718600      623352  False  2018  ...  13.0      572.0      1.0      0.0   \n",
       "718601      623352  False  2018  ...   4.0      577.0      1.0      1.0   \n",
       "718602      623352  False  2018  ...  13.0      578.0      1.0      1.0   \n",
       "718603      623352  False  2018  ...   6.0      579.0      1.0      1.0   \n",
       "\n",
       "        s_count  outs  pitch_num  on_1b  on_2b  on_3b  \n",
       "0           0.0   0.0        1.0    0.0    0.0    0.0  \n",
       "1           1.0   0.0        2.0    0.0    0.0    0.0  \n",
       "2           1.0   0.0        3.0    0.0    0.0    0.0  \n",
       "3           2.0   0.0        4.0    0.0    0.0    0.0  \n",
       "4           2.0   0.0        5.0    0.0    0.0    0.0  \n",
       "...         ...   ...        ...    ...    ...    ...  \n",
       "718599      2.0   2.0        9.0    0.0    0.0    0.0  \n",
       "718600      0.0   2.0        1.0    1.0    0.0    0.0  \n",
       "718601      0.0   2.0        2.0    0.0    1.0    0.0  \n",
       "718602      1.0   2.0        3.0    0.0    1.0    0.0  \n",
       "718603      2.0   2.0        4.0    0.0    1.0    0.0  \n",
       "\n",
       "[717188 rows x 82 columns]"
      ]
     },
     "execution_count": 44,
     "metadata": {},
     "output_type": "execute_result"
    }
   ],
   "source": [
    "Data_num"
   ]
  },
  {
   "cell_type": "code",
   "execution_count": 45,
   "metadata": {},
   "outputs": [],
   "source": [
    "from sklearn import preprocessing\n",
    "# Get column names first\n",
    "names = Data_num.columns\n",
    "# Create the Scaler object\n",
    "scaler = preprocessing.StandardScaler()\n",
    "# Fit your data on the scaler object\n",
    "scaled_Data_num = scaler.fit_transform(Data_num)\n",
    "scaled_Data_num = pd.DataFrame(scaled_Data_num, columns=names)"
   ]
  },
  {
   "cell_type": "code",
   "execution_count": 46,
   "metadata": {},
   "outputs": [
    {
     "data": {
      "text/plain": [
       "PCA(n_components=0.95)"
      ]
     },
     "execution_count": 46,
     "metadata": {},
     "output_type": "execute_result"
    }
   ],
   "source": [
    "from sklearn.decomposition import PCA\n",
    "pca = PCA(0.95)\n",
    "pca.fit(scaled_Data_num)"
   ]
  },
  {
   "cell_type": "code",
   "execution_count": 47,
   "metadata": {},
   "outputs": [
    {
     "data": {
      "text/plain": [
       "Text(0, 0.5, 'cumulative explained variance')"
      ]
     },
     "execution_count": 47,
     "metadata": {},
     "output_type": "execute_result"
    },
    {
     "data": {
      "image/png": "[encoded data removed]",
      "text/plain": [
       "<Figure size 432x288 with 1 Axes>"
      ]
     },
     "metadata": {
      "needs_background": "light"
     },
     "output_type": "display_data"
    }
   ],
   "source": [
    "#pca = PCA().fit(digits.data)\n",
    "plt.plot(np.cumsum(pca.explained_variance_ratio_))\n",
    "plt.xlabel('number of components')\n",
    "plt.ylabel('cumulative explained variance')"
   ]
  },
  {
   "cell_type": "markdown",
   "metadata": {},
   "source": [
    "### As we can see, there is no elbow when we use dummy variables. Hence we need to keep all the variables"
   ]
  },
  {
   "cell_type": "code",
   "execution_count": 48,
   "metadata": {},
   "outputs": [
    {
     "data": {
      "text/plain": [
       "Index(['Unnamed: 0', 'ab_id', 'batter_id', 'g_id', 'inning', 'o', 'p_score',\n",
       "       'p_throws', 'pitcher_id', 'stand', 'top', 'year', '_1B', '_2B', '_3B',\n",
       "       '_BB', '_BGO', '_BI', '_BLO', '_BPO', '_CI', '_DP', '_FC', '_FCO',\n",
       "       '_FO', '_FORCE', '_GIDP', '_GO', '_HBP', '_HR', '_IBB', '_K', '_KDP',\n",
       "       '_LO', '_PO', '_RO', '_ROE', '_SAC', '_SBDP', '_SF', '_SFDP', '_TP',\n",
       "       'event', '_H', '_TB', '_AB', '_PA', '_outs', 'IP', 'px', 'pz',\n",
       "       'start_speed', 'end_speed', 'spin_rate', 'spin_dir', 'break_angle',\n",
       "       'break_length', 'break_y', 'ax', 'ay', 'az', 'sz_bot', 'sz_top',\n",
       "       'type_confidence', 'vx0', 'vy0', 'vz0', 'x', 'x0', 'y', 'y0', 'z0',\n",
       "       'pfx_x', 'pfx_z', 'nasty', 'zone', 'code', 'type', 'pitch_type',\n",
       "       'event_num', 'b_score', 'b_count', 's_count', 'outs', 'pitch_num',\n",
       "       'on_1b', 'on_2b', 'on_3b'],\n",
       "      dtype='object')"
      ]
     },
     "execution_count": 48,
     "metadata": {},
     "output_type": "execute_result"
    }
   ],
   "source": [
    "Data.columns"
   ]
  },
  {
   "cell_type": "markdown",
   "metadata": {},
   "source": [
    "### Creating a logistic regression model and training it on the pitches data"
   ]
  },
  {
   "cell_type": "code",
   "execution_count": 49,
   "metadata": {},
   "outputs": [
    {
     "name": "stdout",
     "output_type": "stream",
     "text": [
      "Optimization terminated successfully.\n",
      "         Current function value: 0.489687\n",
      "         Iterations 10\n",
      "                           Logit Regression Results                           \n",
      "==============================================================================\n",
      "Dep. Variable:                     _H   No. Observations:               717188\n",
      "Model:                          Logit   Df Residuals:                   717156\n",
      "Method:                           MLE   Df Model:                           31\n",
      "Date:                Fri, 11 Dec 2020   Pseudo R-squ.:                0.004749\n",
      "Time:                        16:43:19   Log-Likelihood:            -3.5120e+05\n",
      "converged:                       True   LL-Null:                   -3.5287e+05\n",
      "Covariance Type:            nonrobust   LLR p-value:                     0.000\n",
      "====================================================================================================\n",
      "                                       coef    std err          z      P>|z|      [0.025      0.975]\n",
      "----------------------------------------------------------------------------------------------------\n",
      "Intercept                            0.0117   4.09e+04   2.86e-07      1.000   -8.01e+04    8.01e+04\n",
      "C(pitch_type)[T.4-Seam Fastball]    -0.0789      0.013     -6.000      0.000      -0.105      -0.053\n",
      "C(pitch_type)[T.Change-up]          -0.2690      0.016    -17.061      0.000      -0.300      -0.238\n",
      "C(pitch_type)[T.Curveball]          -0.4422      0.026    -16.868      0.000      -0.494      -0.391\n",
      "C(pitch_type)[T.Cutter]             -0.2678      0.019    -13.967      0.000      -0.305      -0.230\n",
      "C(pitch_type)[T.Knuckle Curve]      -0.4544      0.031    -14.753      0.000      -0.515      -0.394\n",
      "C(pitch_type)[T.Sinker]              0.0158      0.014      1.145      0.252      -0.011       0.043\n",
      "C(pitch_type)[T.Slider]             -0.4031      0.019    -20.926      0.000      -0.441      -0.365\n",
      "C(pitch_type)[T.Splitter]           -0.3768      0.029    -12.948      0.000      -0.434      -0.320\n",
      "C(stand)[T.R]                        0.0314      0.006      4.890      0.000       0.019       0.044\n",
      "start_speed                         -0.0120      0.027     -0.442      0.658      -0.065       0.041\n",
      "end_speed                            0.5592      0.013     42.641      0.000       0.533       0.585\n",
      "spin_rate                          -8.6e-06   1.27e-05     -0.678      0.498   -3.35e-05    1.63e-05\n",
      "spin_dir                            -0.0004    8.7e-05     -4.329      0.000      -0.001      -0.000\n",
      "break_angle                          0.0013      0.001      1.894      0.058   -4.42e-05       0.003\n",
      "break_length                        -0.0322      0.012     -2.628      0.009      -0.056      -0.008\n",
      "break_y                             -1.1980      0.100    -12.001      0.000      -1.394      -1.002\n",
      "ax                                  -0.0076      0.004     -1.951      0.051      -0.015    3.41e-05\n",
      "ay                                   0.1111      0.004     25.563      0.000       0.103       0.120\n",
      "az                                  -0.0176      0.004     -4.068      0.000      -0.026      -0.009\n",
      "sz_bot                              -0.0874      0.021     -4.233      0.000      -0.128      -0.047\n",
      "sz_top                               0.0323      0.019      1.721      0.085      -0.004       0.069\n",
      "type_confidence                     -0.0288      0.007     -4.376      0.000      -0.042      -0.016\n",
      "vx0                                  0.0006      0.008      0.077      0.938      -0.015       0.016\n",
      "vy0                                  0.3938      0.021     19.137      0.000       0.353       0.434\n",
      "vz0                                  0.0696      0.003     24.240      0.000       0.064       0.075\n",
      "x                                    0.0003      0.001      0.481      0.630      -0.001       0.001\n",
      "x0                                  -0.0015      0.019     -0.079      0.937      -0.039       0.036\n",
      "y                                    0.0014      0.000      7.733      0.000       0.001       0.002\n",
      "y0                                   0.5896    817.334      0.001      0.999   -1601.355    1602.534\n",
      "z0                                   0.1624      0.009     18.916      0.000       0.146       0.179\n",
      "pfx_x                                0.0109      0.005      2.134      0.033       0.001       0.021\n",
      "pfx_z                                0.0542      0.008      6.403      0.000       0.038       0.071\n",
      "====================================================================================================\n"
     ]
    }
   ],
   "source": [
    "formula = '_H ~ C(pitch_type) + C(stand) + start_speed + end_speed + spin_rate + spin_dir + break_angle + break_length + break_y + ax + ay + az + sz_bot + sz_top + type_confidence + vx0 + vy0 + vz0 + x + x0 + y + y0 + z0 + pfx_x + pfx_z'\n",
    "model = logit(formula, Data).fit()\n",
    "print(model.summary())"
   ]
  },
  {
   "cell_type": "code",
   "execution_count": 50,
   "metadata": {},
   "outputs": [],
   "source": [
    "Data['Hit_Prediction'] = model.predict(Data)"
   ]
  },
  {
   "cell_type": "code",
   "execution_count": 51,
   "metadata": {},
   "outputs": [],
   "source": [
    "Data['Hit_Gained'] = Data['_H'] - Data['Hit_Prediction']\n",
    "Hit_Gained = Data.groupby('pitcher_id')['Hit_Gained'].sum().to_frame().reset_index()\n",
    "Hit_Gained_count = Data.groupby('pitcher_id')['Hit_Gained'].count().to_frame().reset_index()"
   ]
  },
  {
   "cell_type": "code",
   "execution_count": 52,
   "metadata": {},
   "outputs": [],
   "source": [
    "Hit_Gained_count.rename(columns = {'Hit_Gained' : 'Count'}, inplace = True)\n",
    "Comb = pd.merge(Hit_Gained,Hit_Gained_count, on = 'pitcher_id', how = 'right')"
   ]
  },
  {
   "cell_type": "code",
   "execution_count": 53,
   "metadata": {},
   "outputs": [],
   "source": [
    "Comb.rename(columns = {'pitcher_id' : 'id'}, inplace = True)"
   ]
  },
  {
   "cell_type": "code",
   "execution_count": 54,
   "metadata": {},
   "outputs": [
    {
     "data": {
      "text/html": [
       "<div>\n",
       "<style scoped>\n",
       "    .dataframe tbody tr th:only-of-type {\n",
       "        vertical-align: middle;\n",
       "    }\n",
       "\n",
       "    .dataframe tbody tr th {\n",
       "        vertical-align: top;\n",
       "    }\n",
       "\n",
       "    .dataframe thead th {\n",
       "        text-align: right;\n",
       "    }\n",
       "</style>\n",
       "<table border=\"1\" class=\"dataframe\">\n",
       "  <thead>\n",
       "    <tr style=\"text-align: right;\">\n",
       "      <th></th>\n",
       "      <th>pitcher_id</th>\n",
       "      <th>first_name</th>\n",
       "      <th>last_name</th>\n",
       "      <th>Hit_Gained</th>\n",
       "      <th>Count</th>\n",
       "      <th>Rank</th>\n",
       "    </tr>\n",
       "  </thead>\n",
       "  <tbody>\n",
       "    <tr>\n",
       "      <td>338</td>\n",
       "      <td>468504</td>\n",
       "      <td>Jhoulys</td>\n",
       "      <td>Chacin</td>\n",
       "      <td>-135.669169</td>\n",
       "      <td>3006</td>\n",
       "      <td>1.0</td>\n",
       "    </tr>\n",
       "    <tr>\n",
       "      <td>11</td>\n",
       "      <td>527054</td>\n",
       "      <td>Julio</td>\n",
       "      <td>Teheran</td>\n",
       "      <td>-132.750343</td>\n",
       "      <td>2797</td>\n",
       "      <td>2.0</td>\n",
       "    </tr>\n",
       "    <tr>\n",
       "      <td>43</td>\n",
       "      <td>453286</td>\n",
       "      <td>Max</td>\n",
       "      <td>Scherzer</td>\n",
       "      <td>-129.220348</td>\n",
       "      <td>3480</td>\n",
       "      <td>3.0</td>\n",
       "    </tr>\n",
       "    <tr>\n",
       "      <td>89</td>\n",
       "      <td>493603</td>\n",
       "      <td>Adam</td>\n",
       "      <td>Ottavino</td>\n",
       "      <td>-111.231430</td>\n",
       "      <td>1271</td>\n",
       "      <td>4.0</td>\n",
       "    </tr>\n",
       "    <tr>\n",
       "      <td>383</td>\n",
       "      <td>605483</td>\n",
       "      <td>Blake</td>\n",
       "      <td>Snell</td>\n",
       "      <td>-102.981350</td>\n",
       "      <td>2913</td>\n",
       "      <td>5.0</td>\n",
       "    </tr>\n",
       "    <tr>\n",
       "      <td>...</td>\n",
       "      <td>...</td>\n",
       "      <td>...</td>\n",
       "      <td>...</td>\n",
       "      <td>...</td>\n",
       "      <td>...</td>\n",
       "      <td>...</td>\n",
       "    </tr>\n",
       "    <tr>\n",
       "      <td>83</td>\n",
       "      <td>592332</td>\n",
       "      <td>Kevin</td>\n",
       "      <td>Gausman</td>\n",
       "      <td>100.790934</td>\n",
       "      <td>3004</td>\n",
       "      <td>461.0</td>\n",
       "    </tr>\n",
       "    <tr>\n",
       "      <td>664</td>\n",
       "      <td>669456</td>\n",
       "      <td>Shane</td>\n",
       "      <td>Bieber</td>\n",
       "      <td>102.421165</td>\n",
       "      <td>1802</td>\n",
       "      <td>462.0</td>\n",
       "    </tr>\n",
       "    <tr>\n",
       "      <td>321</td>\n",
       "      <td>527048</td>\n",
       "      <td>Martin</td>\n",
       "      <td>Perez</td>\n",
       "      <td>102.720871</td>\n",
       "      <td>1404</td>\n",
       "      <td>463.0</td>\n",
       "    </tr>\n",
       "    <tr>\n",
       "      <td>311</td>\n",
       "      <td>519043</td>\n",
       "      <td>Matt</td>\n",
       "      <td>Moore</td>\n",
       "      <td>123.035103</td>\n",
       "      <td>1789</td>\n",
       "      <td>464.0</td>\n",
       "    </tr>\n",
       "    <tr>\n",
       "      <td>221</td>\n",
       "      <td>456701</td>\n",
       "      <td>Homer</td>\n",
       "      <td>Bailey</td>\n",
       "      <td>143.917929</td>\n",
       "      <td>1788</td>\n",
       "      <td>465.0</td>\n",
       "    </tr>\n",
       "  </tbody>\n",
       "</table>\n",
       "<p>465 rows × 6 columns</p>\n",
       "</div>"
      ],
      "text/plain": [
       "     pitcher_id first_name last_name  Hit_Gained  Count   Rank\n",
       "338      468504    Jhoulys    Chacin -135.669169   3006    1.0\n",
       "11       527054      Julio   Teheran -132.750343   2797    2.0\n",
       "43       453286        Max  Scherzer -129.220348   3480    3.0\n",
       "89       493603       Adam  Ottavino -111.231430   1271    4.0\n",
       "383      605483      Blake     Snell -102.981350   2913    5.0\n",
       "..          ...        ...       ...         ...    ...    ...\n",
       "83       592332      Kevin   Gausman  100.790934   3004  461.0\n",
       "664      669456      Shane    Bieber  102.421165   1802  462.0\n",
       "321      527048     Martin     Perez  102.720871   1404  463.0\n",
       "311      519043       Matt     Moore  123.035103   1789  464.0\n",
       "221      456701      Homer    Bailey  143.917929   1788  465.0\n",
       "\n",
       "[465 rows x 6 columns]"
      ]
     },
     "execution_count": 54,
     "metadata": {},
     "output_type": "execute_result"
    }
   ],
   "source": [
    "Ranking = pd.merge(player_list,Comb, on = 'id', how = 'right')\n",
    "Ranking.rename(columns = {'id' : 'pitcher_id'}, inplace = True)\n",
    "Ranking = Ranking[Ranking['Count'] >= 500]\n",
    "Ranking['Rank'] = Ranking['Hit_Gained'].rank()\n",
    "Ranking.sort_values(by = ['Rank'])"
   ]
  },
  {
   "cell_type": "code",
   "execution_count": 55,
   "metadata": {
    "scrolled": false
   },
   "outputs": [],
   "source": [
    "Ranking = pd.merge(atbats_2018[['pitcher_id','p_throws']].drop_duplicates(),Ranking, on = 'pitcher_id', how = 'right')"
   ]
  },
  {
   "cell_type": "code",
   "execution_count": 56,
   "metadata": {},
   "outputs": [
    {
     "data": {
      "text/html": [
       "<div>\n",
       "<style scoped>\n",
       "    .dataframe tbody tr th:only-of-type {\n",
       "        vertical-align: middle;\n",
       "    }\n",
       "\n",
       "    .dataframe tbody tr th {\n",
       "        vertical-align: top;\n",
       "    }\n",
       "\n",
       "    .dataframe thead th {\n",
       "        text-align: right;\n",
       "    }\n",
       "</style>\n",
       "<table border=\"1\" class=\"dataframe\">\n",
       "  <thead>\n",
       "    <tr style=\"text-align: right;\">\n",
       "      <th></th>\n",
       "      <th>pitcher_id</th>\n",
       "      <th>p_throws</th>\n",
       "      <th>first_name</th>\n",
       "      <th>last_name</th>\n",
       "      <th>Hit_Gained</th>\n",
       "      <th>Count</th>\n",
       "      <th>Rank</th>\n",
       "    </tr>\n",
       "  </thead>\n",
       "  <tbody>\n",
       "    <tr>\n",
       "      <td>143</td>\n",
       "      <td>468504</td>\n",
       "      <td>R</td>\n",
       "      <td>Jhoulys</td>\n",
       "      <td>Chacin</td>\n",
       "      <td>-135.669169</td>\n",
       "      <td>3006</td>\n",
       "      <td>1.0</td>\n",
       "    </tr>\n",
       "    <tr>\n",
       "      <td>87</td>\n",
       "      <td>527054</td>\n",
       "      <td>R</td>\n",
       "      <td>Julio</td>\n",
       "      <td>Teheran</td>\n",
       "      <td>-132.750343</td>\n",
       "      <td>2797</td>\n",
       "      <td>2.0</td>\n",
       "    </tr>\n",
       "    <tr>\n",
       "      <td>176</td>\n",
       "      <td>453286</td>\n",
       "      <td>R</td>\n",
       "      <td>Max</td>\n",
       "      <td>Scherzer</td>\n",
       "      <td>-129.220348</td>\n",
       "      <td>3480</td>\n",
       "      <td>3.0</td>\n",
       "    </tr>\n",
       "    <tr>\n",
       "      <td>49</td>\n",
       "      <td>493603</td>\n",
       "      <td>R</td>\n",
       "      <td>Adam</td>\n",
       "      <td>Ottavino</td>\n",
       "      <td>-111.231430</td>\n",
       "      <td>1271</td>\n",
       "      <td>4.0</td>\n",
       "    </tr>\n",
       "    <tr>\n",
       "      <td>116</td>\n",
       "      <td>605483</td>\n",
       "      <td>L</td>\n",
       "      <td>Blake</td>\n",
       "      <td>Snell</td>\n",
       "      <td>-102.981350</td>\n",
       "      <td>2913</td>\n",
       "      <td>5.0</td>\n",
       "    </tr>\n",
       "    <tr>\n",
       "      <td>...</td>\n",
       "      <td>...</td>\n",
       "      <td>...</td>\n",
       "      <td>...</td>\n",
       "      <td>...</td>\n",
       "      <td>...</td>\n",
       "      <td>...</td>\n",
       "      <td>...</td>\n",
       "    </tr>\n",
       "    <tr>\n",
       "      <td>252</td>\n",
       "      <td>592332</td>\n",
       "      <td>R</td>\n",
       "      <td>Kevin</td>\n",
       "      <td>Gausman</td>\n",
       "      <td>100.790934</td>\n",
       "      <td>3004</td>\n",
       "      <td>461.0</td>\n",
       "    </tr>\n",
       "    <tr>\n",
       "      <td>422</td>\n",
       "      <td>669456</td>\n",
       "      <td>R</td>\n",
       "      <td>Shane</td>\n",
       "      <td>Bieber</td>\n",
       "      <td>102.421165</td>\n",
       "      <td>1802</td>\n",
       "      <td>462.0</td>\n",
       "    </tr>\n",
       "    <tr>\n",
       "      <td>322</td>\n",
       "      <td>527048</td>\n",
       "      <td>L</td>\n",
       "      <td>Martin</td>\n",
       "      <td>Perez</td>\n",
       "      <td>102.720871</td>\n",
       "      <td>1404</td>\n",
       "      <td>463.0</td>\n",
       "    </tr>\n",
       "    <tr>\n",
       "      <td>202</td>\n",
       "      <td>519043</td>\n",
       "      <td>L</td>\n",
       "      <td>Matt</td>\n",
       "      <td>Moore</td>\n",
       "      <td>123.035103</td>\n",
       "      <td>1789</td>\n",
       "      <td>464.0</td>\n",
       "    </tr>\n",
       "    <tr>\n",
       "      <td>175</td>\n",
       "      <td>456701</td>\n",
       "      <td>R</td>\n",
       "      <td>Homer</td>\n",
       "      <td>Bailey</td>\n",
       "      <td>143.917929</td>\n",
       "      <td>1788</td>\n",
       "      <td>465.0</td>\n",
       "    </tr>\n",
       "  </tbody>\n",
       "</table>\n",
       "<p>465 rows × 7 columns</p>\n",
       "</div>"
      ],
      "text/plain": [
       "     pitcher_id p_throws first_name last_name  Hit_Gained  Count   Rank\n",
       "143      468504        R    Jhoulys    Chacin -135.669169   3006    1.0\n",
       "87       527054        R      Julio   Teheran -132.750343   2797    2.0\n",
       "176      453286        R        Max  Scherzer -129.220348   3480    3.0\n",
       "49       493603        R       Adam  Ottavino -111.231430   1271    4.0\n",
       "116      605483        L      Blake     Snell -102.981350   2913    5.0\n",
       "..          ...      ...        ...       ...         ...    ...    ...\n",
       "252      592332        R      Kevin   Gausman  100.790934   3004  461.0\n",
       "422      669456        R      Shane    Bieber  102.421165   1802  462.0\n",
       "322      527048        L     Martin     Perez  102.720871   1404  463.0\n",
       "202      519043        L       Matt     Moore  123.035103   1789  464.0\n",
       "175      456701        R      Homer    Bailey  143.917929   1788  465.0\n",
       "\n",
       "[465 rows x 7 columns]"
      ]
     },
     "execution_count": 56,
     "metadata": {},
     "output_type": "execute_result"
    }
   ],
   "source": [
    "Ranking.sort_values(by = ['Rank'])"
   ]
  },
  {
   "cell_type": "code",
   "execution_count": 57,
   "metadata": {},
   "outputs": [
    {
     "data": {
      "text/html": [
       "<div>\n",
       "<style scoped>\n",
       "    .dataframe tbody tr th:only-of-type {\n",
       "        vertical-align: middle;\n",
       "    }\n",
       "\n",
       "    .dataframe tbody tr th {\n",
       "        vertical-align: top;\n",
       "    }\n",
       "\n",
       "    .dataframe thead th {\n",
       "        text-align: right;\n",
       "    }\n",
       "</style>\n",
       "<table border=\"1\" class=\"dataframe\">\n",
       "  <thead>\n",
       "    <tr style=\"text-align: right;\">\n",
       "      <th></th>\n",
       "      <th>pitcher_id</th>\n",
       "      <th>Hit_Gained</th>\n",
       "      <th>Count</th>\n",
       "      <th>Rank</th>\n",
       "    </tr>\n",
       "    <tr>\n",
       "      <th>p_throws</th>\n",
       "      <th></th>\n",
       "      <th></th>\n",
       "      <th></th>\n",
       "      <th></th>\n",
       "    </tr>\n",
       "  </thead>\n",
       "  <tbody>\n",
       "    <tr>\n",
       "      <td>L</td>\n",
       "      <td>554693.627907</td>\n",
       "      <td>-5.999757</td>\n",
       "      <td>1464.248062</td>\n",
       "      <td>220.294574</td>\n",
       "    </tr>\n",
       "    <tr>\n",
       "      <td>R</td>\n",
       "      <td>557087.607143</td>\n",
       "      <td>-1.827638</td>\n",
       "      <td>1379.309524</td>\n",
       "      <td>237.877976</td>\n",
       "    </tr>\n",
       "  </tbody>\n",
       "</table>\n",
       "</div>"
      ],
      "text/plain": [
       "             pitcher_id  Hit_Gained        Count        Rank\n",
       "p_throws                                                    \n",
       "L         554693.627907   -5.999757  1464.248062  220.294574\n",
       "R         557087.607143   -1.827638  1379.309524  237.877976"
      ]
     },
     "execution_count": 57,
     "metadata": {},
     "output_type": "execute_result"
    }
   ],
   "source": [
    "Ranking.groupby('p_throws').mean()"
   ]
  },
  {
   "cell_type": "code",
   "execution_count": 58,
   "metadata": {},
   "outputs": [
    {
     "data": {
      "text/plain": [
       "p_throws\n",
       "L   -5.847355\n",
       "R   -3.306096\n",
       "Name: Hit_Gained, dtype: float64"
      ]
     },
     "execution_count": 58,
     "metadata": {},
     "output_type": "execute_result"
    }
   ],
   "source": [
    "Ranking[Ranking['Count'] >= 663].groupby('p_throws').mean()['Hit_Gained']"
   ]
  },
  {
   "cell_type": "code",
   "execution_count": 59,
   "metadata": {},
   "outputs": [
    {
     "data": {
      "text/plain": [
       "p_throws\n",
       "L   -0.001518\n",
       "R    0.000604\n",
       "Name: Hit_Gained, dtype: float64"
      ]
     },
     "execution_count": 59,
     "metadata": {},
     "output_type": "execute_result"
    }
   ],
   "source": [
    "Data.groupby('p_throws').mean()['Hit_Gained']\n",
    "#plt.hist(Data['Hit_Gained'])"
   ]
  },
  {
   "cell_type": "code",
   "execution_count": 60,
   "metadata": {},
   "outputs": [],
   "source": [
    "from scipy import stats"
   ]
  },
  {
   "cell_type": "code",
   "execution_count": 61,
   "metadata": {},
   "outputs": [
    {
     "data": {
      "text/plain": [
       "Ttest_indResult(statistic=-2.06269627841003, pvalue=0.03914217524958424)"
      ]
     },
     "execution_count": 61,
     "metadata": {},
     "output_type": "execute_result"
    }
   ],
   "source": [
    "stats.ttest_ind(Data[Data['p_throws'] == 'L']['Hit_Gained'],Data[Data['p_throws'] == 'R']['Hit_Gained'], equal_var = False)"
   ]
  },
  {
   "cell_type": "markdown",
   "metadata": {},
   "source": [
    "### The T-test is on the parameter Hit-Gained between left hand and right handed pitches thrown."
   ]
  },
  {
   "cell_type": "code",
   "execution_count": null,
   "metadata": {},
   "outputs": [],
   "source": []
  }
 ],
 "metadata": {
  "colab": {
   "name": "Data Exploration.ipynb",
   "provenance": []
  },
  "kernelspec": {
   "display_name": "Python 3",
   "language": "python",
   "name": "python3"
  },
  "language_info": {
   "codemirror_mode": {
    "name": "ipython",
    "version": 3
   },
   "file_extension": ".py",
   "mimetype": "text/x-python",
   "name": "python",
   "nbconvert_exporter": "python",
   "pygments_lexer": "ipython3",
   "version": "3.7.4"
  }
 },
 "nbformat": 4,
 "nbformat_minor": 1
}
